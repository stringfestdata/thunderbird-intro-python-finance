{
 "cells": [
  {
   "cell_type": "markdown",
   "metadata": {},
   "source": [
    "# Up and running from spreadsheets to Python\n",
    "\n",
    "## Hello, Jupyter\n",
    "\n",
    "This is the interface that we will use to execute `.ipynb`, or IPython notebook files. \n",
    "\n",
    "You may also often see Python files with a `.py` extension. These are *script* files versus *notebook* files.\n",
    "\n",
    "Notebooks are divided into cells which can be either text or code, among other things.\n",
    "\n",
    "Go ahead and click into this cell. What happens? "
   ]
  },
  {
   "cell_type": "markdown",
   "metadata": {},
   "source": [
    "You can add, reorder, cut and paste cells using the menu icons. "
   ]
  },
  {
   "cell_type": "markdown",
   "metadata": {},
   "source": [
    "(From a new cell)  you are seeing *raw Markdown* styling in the above cell. \n",
    "\n",
    "You can close out of it by **running the cell.** `Ctrl + Enter` is the keyboard shortcut.\n",
    "\n",
    "Markdown allows us to style text using plain-text format. \n",
    "\n",
    "There's [a lot you can do with Markdown](https://www.markdownguide.org/cheat-sheet). Some basics:\n",
    "\n",
    "# Big Header 1\n",
    "## Smaller Header 2\n",
    "### Even smaller headers\n",
    "#### Still more\n",
    "\n",
    "*Using one asterisk renders italics*\n",
    "\n",
    "**Using two asterisks renders bold**\n",
    "\n",
    "It's worth studying up on Markdown to write elegant text in your notebooks. \n",
    "\n",
    "But in this class we'll focus on the *code* block, because that's where executable code goes!\n"
   ]
  },
  {
   "cell_type": "markdown",
   "metadata": {},
   "source": [
    "## Python as a fancy calculator\n",
    "\n",
    "We can use Python as a highfalutin calculator, just as you might do with Excel.\n",
    "\n",
    "Enter some basic arithmetic below, then **run the cell** (Do you remember how to do that?)."
   ]
  },
  {
   "cell_type": "code",
   "execution_count": 8,
   "metadata": {},
   "outputs": [
    {
     "data": {
      "text/plain": [
       "3"
      ]
     },
     "execution_count": 8,
     "metadata": {},
     "output_type": "execute_result"
    }
   ],
   "source": [
    "# This is a code block. \n",
    "# You can execute code here.\n",
    "\n",
    "# Python can be used as a fancy calculator.\n"
   ]
  },
  {
   "cell_type": "markdown",
   "metadata": {},
   "source": [
    "Some of these arithmetic operators are the same as in Excel, but others are different:\n",
    "\n",
    "\n",
    "| Operator | Description    |\n",
    "| -------- | -------------- |\n",
    "| `+`      | Addition       |\n",
    "| `-`      | Subtraction    |\n",
    "| `/`      | Division       |\n",
    "| `%`      | Modulus        |\n",
    "| `**`     | Exponent       |\n",
    "| `//`     | Floor division |"
   ]
  },
  {
   "cell_type": "markdown",
   "metadata": {},
   "source": [
    "## Cell comments\n",
    "\n",
    "What's the deal with the hashtags and text in the above cell?\n",
    "\n",
    "Those are cell comments used to give us verbal instructions and reminders about our code. This helps other users -- and ourselves -- remember what we are doing with it.\n",
    "\n",
    "![Gandalf coding meme](images/gandalf.jpg)\n",
    "\n",
    "And yes, you can embed images into notebooks 😎.\n",
    "\n",
    "Try writing comments in the cell below.\n"
   ]
  },
  {
   "cell_type": "code",
   "execution_count": 10,
   "metadata": {},
   "outputs": [],
   "source": [
    "# Hello, world!"
   ]
  },
  {
   "cell_type": "code",
   "execution_count": 13,
   "metadata": {},
   "outputs": [
    {
     "data": {
      "text/plain": [
       "3.0606601717798214"
      ]
     },
     "execution_count": 13,
     "metadata": {},
     "output_type": "execute_result"
    }
   ],
   "source": [
    "# Python follows the order of operations, just like spreadsheets. \n",
    "\n",
    "2+3/4*2**.5"
   ]
  },
  {
   "cell_type": "markdown",
   "metadata": {},
   "source": [
    "### Running functions\n",
    "\n",
    "Python includes many functions for working with data.\n",
    "\n",
    "Functions take arguments inside parentheses, just like in Excel:"
   ]
  },
  {
   "cell_type": "code",
   "execution_count": 14,
   "metadata": {},
   "outputs": [
    {
     "data": {
      "text/plain": [
       "100"
      ]
     },
     "execution_count": 14,
     "metadata": {},
     "output_type": "execute_result"
    }
   ],
   "source": [
    "# We can also call functions:\n",
    "# Let's find the absolute value of -100\n",
    "abs(-100)"
   ]
  },
  {
   "cell_type": "markdown",
   "metadata": {},
   "source": [
    "There are some important differences:"
   ]
  },
  {
   "cell_type": "code",
   "execution_count": 15,
   "metadata": {},
   "outputs": [
    {
     "ename": "NameError",
     "evalue": "name 'ABS' is not defined",
     "output_type": "error",
     "traceback": [
      "\u001b[1;31m---------------------------------------------------------------------------\u001b[0m",
      "\u001b[1;31mNameError\u001b[0m                                 Traceback (most recent call last)",
      "\u001b[1;32m<ipython-input-15-60970b9d13d5>\u001b[0m in \u001b[0;36m<module>\u001b[1;34m\u001b[0m\n\u001b[0;32m      1\u001b[0m \u001b[1;31m# These aren't going to work to find them!\u001b[0m\u001b[1;33m\u001b[0m\u001b[1;33m\u001b[0m\u001b[1;33m\u001b[0m\u001b[0m\n\u001b[1;32m----> 2\u001b[1;33m \u001b[0mABS\u001b[0m\u001b[1;33m(\u001b[0m\u001b[1;33m-\u001b[0m\u001b[1;36m100\u001b[0m\u001b[1;33m)\u001b[0m\u001b[1;33m\u001b[0m\u001b[1;33m\u001b[0m\u001b[0m\n\u001b[0m\u001b[0;32m      3\u001b[0m \u001b[0mAbs\u001b[0m\u001b[1;33m(\u001b[0m\u001b[1;33m-\u001b[0m\u001b[1;36m100\u001b[0m\u001b[1;33m)\u001b[0m\u001b[1;33m\u001b[0m\u001b[1;33m\u001b[0m\u001b[0m\n",
      "\u001b[1;31mNameError\u001b[0m: name 'ABS' is not defined"
     ]
    }
   ],
   "source": [
    "# These aren't going to work to find them!\n",
    "ABS(-100)\n",
    "Abs(-100)"
   ]
  },
  {
   "cell_type": "markdown",
   "metadata": {},
   "source": [
    "Moral of the story: **Python is case-sensitive** and all-around finicky. "
   ]
  },
  {
   "cell_type": "markdown",
   "metadata": {},
   "source": [
    "## Comparison operators\n",
    "\n",
    "We can also test for whether one value is greater than another, much like you would do in Excel:"
   ]
  },
  {
   "cell_type": "code",
   "execution_count": 16,
   "metadata": {},
   "outputs": [
    {
     "data": {
      "text/plain": [
       "False"
      ]
     },
     "execution_count": 16,
     "metadata": {},
     "output_type": "execute_result"
    }
   ],
   "source": [
    "# Is 3 > 4?\n",
    "3 > 4"
   ]
  },
  {
   "cell_type": "markdown",
   "metadata": {},
   "source": [
    "Like in Excel, Python will return either a `True` or `False`. \n",
    "\n",
    "Much of these conditional operators will look familiar to you:\n",
    "\n",
    "| Operator | Meaning                  |\n",
    "| -------- | ------------------------ |\n",
    "| `!=`     | Not equal to             |\n",
    "| `>`      | Greater than             |\n",
    "| `<`      | Less than                |\n",
    "| `>=`     | Greater than or equal to |\n",
    "| `<=`     | Less than or equal to    |\n",
    "| **`==`**     | **Equal to**                 |\n"
   ]
  },
  {
   "cell_type": "markdown",
   "metadata": {},
   "source": [
    "Did you catch that last one?\n",
    "\n",
    "You do not check for whether two values are equal to each other using `=`, but instead using `==`. Why?\n",
    "\n",
    "Because in Python, we assign data to *variables*. This is a game-changer!"
   ]
  },
  {
   "cell_type": "markdown",
   "metadata": {},
   "source": [
    "## Assigning variables\n",
    "\n",
    "Calling functions like `abs(100)` can be useful, but where things get *really* interesting in Python is by assigning results of operations to variables.\n",
    "\n",
    "Let's go ahead and pass the absolute value of -100 to a variable, `my_first_variable`."
   ]
  },
  {
   "cell_type": "code",
   "execution_count": 17,
   "metadata": {},
   "outputs": [],
   "source": [
    "my_first_variable = abs(-100)"
   ]
  },
  {
   "cell_type": "markdown",
   "metadata": {},
   "source": [
    "The result of `abs(-100)` has been stored in a *variable*, which will make it much easier for us to refer to and use it. \n",
    "\n",
    "### Printing variables\n",
    "\n",
    "To see the result of that variable, we can *print* it using the `print()` function: "
   ]
  },
  {
   "cell_type": "code",
   "execution_count": 18,
   "metadata": {
    "tags": []
   },
   "outputs": [
    {
     "name": "stdout",
     "output_type": "stream",
     "text": [
      "100\n"
     ]
    }
   ],
   "source": [
    "print(my_first_variable)"
   ]
  },
  {
   "cell_type": "markdown",
   "metadata": {},
   "source": [
    "What do you think the result of the below will be?"
   ]
  },
  {
   "cell_type": "code",
   "execution_count": 19,
   "metadata": {},
   "outputs": [
    {
     "ename": "NameError",
     "evalue": "name 'MY_FIRST_VARIABLE' is not defined",
     "output_type": "error",
     "traceback": [
      "\u001b[1;31m---------------------------------------------------------------------------\u001b[0m",
      "\u001b[1;31mNameError\u001b[0m                                 Traceback (most recent call last)",
      "\u001b[1;32m<ipython-input-19-97b021f5434c>\u001b[0m in \u001b[0;36m<module>\u001b[1;34m\u001b[0m\n\u001b[1;32m----> 1\u001b[1;33m \u001b[0mprint\u001b[0m\u001b[1;33m(\u001b[0m\u001b[0mMY_FIRST_VARIABLE\u001b[0m\u001b[1;33m)\u001b[0m\u001b[1;33m\u001b[0m\u001b[1;33m\u001b[0m\u001b[0m\n\u001b[0m",
      "\u001b[1;31mNameError\u001b[0m: name 'MY_FIRST_VARIABLE' is not defined"
     ]
    }
   ],
   "source": [
    "print(MY_FIRST_VARIABLE)"
   ]
  },
  {
   "cell_type": "markdown",
   "metadata": {},
   "source": [
    "## Python variable naming conventions\n",
    "\n",
    "> There are only two hard things in Computer Science: cache invalidation and naming things. --Phil Karlton\n",
    "\n",
    "\n",
    "There are some rules in naming Python variables:\n",
    "\n",
    "- They must start with a letter or underscore.\n",
    "- The rest of your variable can only contain letters, numbers or underscores.\n",
    "\n",
    "In theory, you can name your variables almost anything so long as they fit these rules. But `sales` may be a better name for sales data than `scooby_doo`. \n",
    "\n",
    "### DRILL\n",
    "\n",
    "Based on these rules, which of the following is an invalid variable name?\n",
    "\n",
    "A. `My_string_`  \n",
    "B. `string_1`  \n",
    "C. `razzle.dazzle`  \n",
    "D. `_`  "
   ]
  },
  {
   "cell_type": "code",
   "execution_count": 16,
   "metadata": {},
   "outputs": [],
   "source": [
    "# Try assigning and printing these variables if you're not sure!"
   ]
  },
  {
   "cell_type": "markdown",
   "metadata": {},
   "source": [
    "## Variable types\n",
    "\n",
    "You can think about a variable as a box that we are putting a piece of information into. \n",
    "\n",
    "Variables can be of different types, like different categories and dimensions of boxes. \n",
    "\n",
    "![variables shoebox](images/variables-shoebox.png)\n",
    "\n"
   ]
  },
  {
   "cell_type": "markdown",
   "metadata": {},
   "source": [
    "You can find a variable's type with the `type()` function."
   ]
  },
  {
   "cell_type": "code",
   "execution_count": 20,
   "metadata": {
    "tags": []
   },
   "outputs": [
    {
     "name": "stdout",
     "output_type": "stream",
     "text": [
      "<class 'int'>\n",
      "<class 'float'>\n",
      "<class 'str'>\n",
      "<class 'bool'>\n"
     ]
    }
   ],
   "source": [
    "# Assigning different variable types\n",
    "\n",
    "# Integer\n",
    "my_int = 2\n",
    "\n",
    "# Float(ing point decimal)\n",
    "my_float = 2.222\n",
    "\n",
    "# String\n",
    "my_string = 'Hello'\n",
    "\n",
    "# Boolean\n",
    "my_boolean = True\n",
    "\n",
    "print(type(my_int))\n",
    "print(type(my_float))\n",
    "print(type(my_string))\n",
    "print(type(my_boolean))"
   ]
  },
  {
   "cell_type": "markdown",
   "metadata": {},
   "source": [
    "We can call functions directly on these variables.\n",
    "\n",
    "In fact, that's what we were doing with `print()` and `type()` all along!"
   ]
  },
  {
   "cell_type": "code",
   "execution_count": 25,
   "metadata": {},
   "outputs": [
    {
     "data": {
      "text/plain": [
       "2"
      ]
     },
     "execution_count": 25,
     "metadata": {},
     "output_type": "execute_result"
    }
   ],
   "source": [
    "# Absolute value of my_int\n",
    "abs(my_int)"
   ]
  },
  {
   "cell_type": "code",
   "execution_count": 26,
   "metadata": {},
   "outputs": [
    {
     "data": {
      "text/plain": [
       "5"
      ]
     },
     "execution_count": 26,
     "metadata": {},
     "output_type": "execute_result"
    }
   ],
   "source": [
    "# Length of my_string\n",
    "len(my_string)"
   ]
  },
  {
   "cell_type": "code",
   "execution_count": 27,
   "metadata": {
    "tags": []
   },
   "outputs": [
    {
     "name": "stdout",
     "output_type": "stream",
     "text": [
      "10\n"
     ]
    }
   ],
   "source": [
    "# Assign the product to a variable\n",
    "my_nonsense = abs(my_int) * len(my_string)\n",
    "print(my_nonsense)"
   ]
  },
  {
   "cell_type": "markdown",
   "metadata": {},
   "source": [
    "# DRILLS\n",
    "\n",
    "1. Assign the sum of -10 and 2 to `a`.\n",
    "2. Assign the absolute value of `a` to `b`.\n",
    "3. Assign `b` minus 1 as `d`.\n",
    "4. Print the result of `d`. What is the value? What type is this variable?\n",
    "\n",
    "You can insert a code cell below to conduct your work.\n"
   ]
  },
  {
   "cell_type": "markdown",
   "metadata": {},
   "source": [
    "# From spreadsheet ranges to Python lists\n",
    "\n",
    "Generally in spreadsheets we want to operate on multiple cells at a time and the same is true in Python. "
   ]
  },
  {
   "cell_type": "code",
   "execution_count": 21,
   "metadata": {},
   "outputs": [
    {
     "name": "stdout",
     "output_type": "stream",
     "text": [
      "1\n",
      "<class 'int'>\n"
     ]
    }
   ],
   "source": [
    "# You know how to assign the number 1 to a variable... do it now!\n",
    "my_variable = 1"
   ]
  },
  {
   "cell_type": "markdown",
   "metadata": {},
   "source": [
    "What about the numbers 1, 2 and 3? Do we have to assign each to its own variable?\n",
    "\n",
    "Thank heavens not! We can use a *collection* variable to to assign all of them at once. Let's look at a common collection data type, a list.\n",
    "\n",
    "## Lists\n",
    "\n",
    "Lists are denoted with brackets `[]`. \n",
    "\n",
    "Each *element* of the list is separated by commas `,`."
   ]
  },
  {
   "cell_type": "code",
   "execution_count": 24,
   "metadata": {},
   "outputs": [
    {
     "name": "stdout",
     "output_type": "stream",
     "text": [
      "[1, 2, 3]\n",
      "<class 'list'>\n"
     ]
    }
   ],
   "source": [
    "# Make a list\n",
    "my_first_list = [1,2,3]\n",
    "print(my_first_list)\n",
    "print(type(my_first_list))"
   ]
  },
  {
   "cell_type": "markdown",
   "metadata": {},
   "source": [
    "Notice that the type isn't `integer` but `list`. This is its own type of variable!\n",
    "\n",
    "Lists can contain all sorts of individual data types inside of it.\n",
    "\n",
    "![List shoebox](images/list-shoebox.png)"
   ]
  },
  {
   "cell_type": "code",
   "execution_count": 25,
   "metadata": {},
   "outputs": [
    {
     "name": "stdout",
     "output_type": "stream",
     "text": [
      "[1, 2, 3, 'Boo!']\n",
      "<class 'list'>\n"
     ]
    }
   ],
   "source": [
    "my_other_list = [1,2,3,\"Boo!\"]\n",
    "print(my_other_list)\n",
    "print(type(my_other_list))"
   ]
  },
  {
   "cell_type": "markdown",
   "metadata": {},
   "source": [
    "They can even contain *other lists*!"
   ]
  },
  {
   "cell_type": "code",
   "execution_count": 26,
   "metadata": {},
   "outputs": [
    {
     "name": "stdout",
     "output_type": "stream",
     "text": [
      "[1, 2, 3, [1, 2, 3, 'Boo!']]\n",
      "<class 'list'>\n"
     ]
    }
   ],
   "source": [
    "my_list_here = [1,2,3,[1,2,3,\"Boo!\"]]\n",
    "print(my_list_here)\n",
    "print(type(my_list_here))"
   ]
  },
  {
   "cell_type": "markdown",
   "metadata": {},
   "source": [
    "We can find the number of *elements* in a list using the `len()` function. Any list inside a list is considered one element."
   ]
  },
  {
   "cell_type": "code",
   "execution_count": 27,
   "metadata": {},
   "outputs": [
    {
     "data": {
      "text/plain": [
       "4"
      ]
     },
     "execution_count": 27,
     "metadata": {},
     "output_type": "execute_result"
    }
   ],
   "source": [
    "len(my_list_here)"
   ]
  },
  {
   "cell_type": "markdown",
   "metadata": {},
   "source": [
    "# DRILL\n",
    "\n",
    "1. Create a list containing the values `North`, `East`, `South` and `West`.  \n",
    "2. What is the result of the below?\n",
    "\n",
    "```\n",
    "len(['Monday','Tuesday','Wednesday','Thursday','Friday',['Saturday','Sunday']])\n",
    "```"
   ]
  },
  {
   "cell_type": "markdown",
   "metadata": {},
   "source": [
    "# Modifying lists\n",
    "\n",
    "There are several ways you might want to manipulate a list. Let's look at a couple of common ones.\n",
    "\n",
    "## Sorting lists \n",
    "\n",
    "You can do this using the `.sort()` method. A method is similar to a function, but we will suffix our variable with it. \n",
    "\n",
    "The method will operate directly on our variable."
   ]
  },
  {
   "cell_type": "code",
   "execution_count": 31,
   "metadata": {},
   "outputs": [
    {
     "name": "stdout",
     "output_type": "stream",
     "text": [
      "[-1, 2, 3, 4]\n"
     ]
    }
   ],
   "source": [
    "my_list = [-1,4,3,2]\n",
    "\n",
    "# This is a method\n",
    "my_list.sort()\n",
    "print(my_list)"
   ]
  },
  {
   "cell_type": "markdown",
   "metadata": {},
   "source": [
    "Methods can contain arguments: for example, we can set `reverse` to `True` to sort the list in reverse:"
   ]
  },
  {
   "cell_type": "code",
   "execution_count": 33,
   "metadata": {},
   "outputs": [
    {
     "name": "stdout",
     "output_type": "stream",
     "text": [
      "[4, 3, 2, -1]\n"
     ]
    }
   ],
   "source": [
    "my_list.sort(reverse=True)\n",
    "print(my_list)"
   ]
  },
  {
   "cell_type": "markdown",
   "metadata": {},
   "source": [
    "## Appending lists\n",
    "\n",
    "We can add elements to our list using the `.append()` method."
   ]
  },
  {
   "cell_type": "code",
   "execution_count": 34,
   "metadata": {},
   "outputs": [
    {
     "name": "stdout",
     "output_type": "stream",
     "text": [
      "[4, 3, 2, -1, 0]\n"
     ]
    }
   ],
   "source": [
    "# Add number 0 to the list\n",
    "my_list.append(0)\n",
    "print(my_list)"
   ]
  },
  {
   "cell_type": "code",
   "execution_count": 35,
   "metadata": {},
   "outputs": [
    {
     "name": "stdout",
     "output_type": "stream",
     "text": [
      "[-1, 0, 2, 3, 4]\n"
     ]
    }
   ],
   "source": [
    "# Let's re-sort our list!\n",
    "my_list.sort()\n",
    "print(my_list)"
   ]
  },
  {
   "cell_type": "markdown",
   "metadata": {},
   "source": [
    "For other list methods, [check out this article](https://www.w3schools.com/python/python_ref_list.asp)."
   ]
  },
  {
   "cell_type": "markdown",
   "metadata": {},
   "source": [
    "# DRILL\n",
    "\n",
    "1. What do you expect to be the result of the following? Run the code and see how you did.\n",
    "\n",
    "```\n",
    "my_week = (['Monday','Tuesday','Wednesday','Thursday','Friday','Saturday','Sunday'])\n",
    "my_week.sort()\n",
    "print(my_week)\n",
    "```\n",
    "\n",
    "2. Pass the `clear()` method to `my_week` from above. What happens?"
   ]
  },
  {
   "cell_type": "markdown",
   "metadata": {},
   "source": [
    "# What questions do you have about variables?"
   ]
  },
  {
   "cell_type": "markdown",
   "metadata": {},
   "source": [
    " # Lists and Python indexing  \n",
    "\n",
    "Have you ever accidentaly downloaded the same files multiple times and seen something like this?\n",
    "\n",
    "![Computer downloads are an example of zero-based indexing](images/zero-based-index.png)\n",
    "\n",
    "The first time you downloaded it, there was no number given. But after that, the file was suffixed with the numbers 1, 2, 3, and so on. \n",
    "\n",
    "This is an everyday example of *zero-based indexing*. \n",
    "\n",
    "We tend to count things from 1... **but Python counts from *zero*.** "
   ]
  },
  {
   "cell_type": "code",
   "execution_count": 36,
   "metadata": {},
   "outputs": [],
   "source": [
    "my_list = [7,12,5,10,9]"
   ]
  },
  {
   "cell_type": "markdown",
   "metadata": {},
   "source": [
    "We would like to pull out the third element of this list.\n",
    "\n",
    "We can do so using this notation:\n",
    "\n",
    "```\n",
    "list[position number]\n",
    "```\n",
    "So let's try it:"
   ]
  },
  {
   "cell_type": "code",
   "execution_count": 37,
   "metadata": {},
   "outputs": [
    {
     "data": {
      "text/plain": [
       "10"
      ]
     },
     "execution_count": 37,
     "metadata": {},
     "output_type": "execute_result"
    }
   ],
   "source": [
    "# Get the third element from my list... right?\n",
    "my_list[3]"
   ]
  },
  {
   "cell_type": "markdown",
   "metadata": {},
   "source": [
    "### Wrong!\n",
    "\n",
    "This gets us the *fourth* element...\n",
    "\n",
    "...so what gives?\n",
    "\n",
    "This is zero-based indexing at work. What we see as the third element is to Python in the second *position*:\n",
    "\n",
    "\n",
    "| `0` | `1` | `2` | `3` | `4` |\n",
    "| --- | --- | --- | --- | --- |\n",
    "| 7   | 12  | 5   | 10  | 9   |\n",
    "\n",
    "Let's try again:\n"
   ]
  },
  {
   "cell_type": "code",
   "execution_count": 38,
   "metadata": {},
   "outputs": [
    {
     "data": {
      "text/plain": [
       "5"
      ]
     },
     "execution_count": 38,
     "metadata": {},
     "output_type": "execute_result"
    }
   ],
   "source": [
    "my_list[2]"
   ]
  },
  {
   "cell_type": "markdown",
   "metadata": {},
   "source": [
    "Nice work!\n",
    "\n",
    "![Kip meme](images/kip-yes.gif)\n",
    "\n",
    "### Negative indexing\n",
    "\n",
    "It's also worth noting that you can index starting at the *end* of the list, as well.\n",
    "\n",
    "The first element will be in position `-1`.\n",
    "\n",
    "| `0`<br>`-5` | `1`<br>`-4` | `2`<br>`-3` | `3`<br>`-2` | `4`<br>`-1` |\n",
    "| ----------- | ----------- | ----------- | ----------- | ----------- |\n",
    "| 7           | 12          | 5           | 10          | 9           |\n",
    "  \n",
    "\n",
    "Give it a try!"
   ]
  },
  {
   "cell_type": "code",
   "execution_count": 14,
   "metadata": {},
   "outputs": [
    {
     "data": {
      "text/plain": [
       "9"
      ]
     },
     "execution_count": 14,
     "metadata": {},
     "output_type": "execute_result"
    }
   ],
   "source": [
    "my_new_list = [6,10,3,9,1]\n",
    "\n",
    "# Find the next-to-last element in the list \n",
    "# using a negative index \n",
    "\n",
    "my_new_list[-2]"
   ]
  },
  {
   "cell_type": "markdown",
   "metadata": {},
   "source": [
    "## Slicing a list\n",
    "\n",
    "What if we wanted to index multiple elements of a list at once?\n",
    "\n",
    "This is called *slicing* and ... of course, it's got a loophole! \n",
    "\n",
    "The basic notation for slicing a list is\n",
    "\n",
    "`list[starting_element:ending_element]`\n",
    " \n",
    "However, the result is *exclusive* of the ending element. 🙈\n",
    "\n",
    "Let's take an example."
   ]
  },
  {
   "cell_type": "code",
   "execution_count": 39,
   "metadata": {},
   "outputs": [
    {
     "data": {
      "text/plain": [
       "[7]"
      ]
     },
     "execution_count": 39,
     "metadata": {},
     "output_type": "execute_result"
    }
   ],
   "source": [
    "my_list = [7,12,5,10,9]\n",
    "\n",
    "# This gives me the \n",
    "# first through second elements... right?\n",
    "my_list[0:1]"
   ]
  },
  {
   "cell_type": "markdown",
   "metadata": {},
   "source": [
    "### Wrong!\n",
    "\n",
    "The ending element is not included in the final results. You get everything *up until* that element.\n",
    "\n",
    "Weird, right?\n",
    "\n",
    "![Head scratch](images/confused.gif)\n",
    "\n",
    "Because our result is *exclusive* of that final element, we'll need:"
   ]
  },
  {
   "cell_type": "code",
   "execution_count": 40,
   "metadata": {},
   "outputs": [
    {
     "data": {
      "text/plain": [
       "[7, 12]"
      ]
     },
     "execution_count": 40,
     "metadata": {},
     "output_type": "execute_result"
    }
   ],
   "source": [
    "# This gives me the \n",
    "# first through second elements... right?\n",
    "my_list[0:2]"
   ]
  },
  {
   "cell_type": "markdown",
   "metadata": {},
   "source": [
    "Let's see this in action a couple more times."
   ]
  },
  {
   "cell_type": "code",
   "execution_count": 41,
   "metadata": {
    "tags": []
   },
   "outputs": [
    {
     "name": "stdout",
     "output_type": "stream",
     "text": [
      "[7, 12]\n",
      "[5, 10, 9]\n",
      "[12, 5, 10]\n"
     ]
    }
   ],
   "source": [
    "my_list = [7,12,5,10,9]\n",
    "\n",
    "# First through second elements\n",
    "print(my_list[0:2])\n",
    "\n",
    "# Third through fifth elements\n",
    "print(my_list[2:5])\n",
    "\n",
    "# Fourth-last through second-last elements\n",
    "print(my_list[-4:-1])"
   ]
  },
  {
   "cell_type": "markdown",
   "metadata": {},
   "source": [
    "## Drill\n",
    "\n",
    "Practice some more slicing below:"
   ]
  },
  {
   "cell_type": "code",
   "execution_count": null,
   "metadata": {},
   "outputs": [],
   "source": [
    "my_list = [7,12,5,10,9]\n",
    "\n",
    "# Get the first through third elements\n",
    "\n",
    "\n",
    "# Get the third-last to second-last elements\n",
    "\n",
    "\n",
    "# Get the second through last elements\n"
   ]
  },
  {
   "cell_type": "markdown",
   "metadata": {},
   "source": [
    "## Slicing to/from first/last elements\n",
    "\n",
    "Remember our notation for slicing a list:\n",
    "\n",
    "`list[starting_element:ending_element]`\n",
    "\n",
    "If we leave part of our slice blank, Python will index *all* the remaining elements in the list:"
   ]
  },
  {
   "cell_type": "code",
   "execution_count": 42,
   "metadata": {
    "tags": []
   },
   "outputs": [
    {
     "name": "stdout",
     "output_type": "stream",
     "text": [
      "[12, 5, 10, 9]\n"
     ]
    }
   ],
   "source": [
    "my_list = [7,12,5,10,9]\n",
    "# Print the second through the end element\n",
    "print(my_list[1:])"
   ]
  },
  {
   "cell_type": "code",
   "execution_count": 43,
   "metadata": {},
   "outputs": [
    {
     "name": "stdout",
     "output_type": "stream",
     "text": [
      "[3, 2, 5, 3, 1, 8, 3, 11, 4]\n"
     ]
    }
   ],
   "source": [
    "my_big_list = [1,3,2,5,3,1,8,3,11,4]\n",
    "# Works the same here\n",
    "print(my_big_list[1:])"
   ]
  },
  {
   "cell_type": "markdown",
   "metadata": {},
   "source": [
    "Likewise, we can get everything from the *beginning* of the list to a certain element by leaving the first part of our slice bank:"
   ]
  },
  {
   "cell_type": "code",
   "execution_count": 44,
   "metadata": {
    "tags": []
   },
   "outputs": [
    {
     "name": "stdout",
     "output_type": "stream",
     "text": [
      "[7, 12, 5, 10]\n"
     ]
    }
   ],
   "source": [
    "# Get everything but the last element\n",
    "my_list = [7,12,5,10,9]\n",
    "print(my_list[:-1])"
   ]
  },
  {
   "cell_type": "code",
   "execution_count": 45,
   "metadata": {},
   "outputs": [
    {
     "name": "stdout",
     "output_type": "stream",
     "text": [
      "[1, 3, 2, 5]\n"
     ]
    }
   ],
   "source": [
    "my_big_list = [1,3,2,5,3,1,8,3,11,4]\n",
    "# Get everything up until the fourth element\n",
    "print(my_big_list[:4])"
   ]
  },
  {
   "cell_type": "code",
   "execution_count": 46,
   "metadata": {},
   "outputs": [
    {
     "name": "stdout",
     "output_type": "stream",
     "text": [
      "[1, 3, 2, 5, 3, 1, 8, 3, 11, 4]\n"
     ]
    }
   ],
   "source": [
    "# Yes, this would print the whole list 😎\n",
    "my_big_list = [1,3,2,5,3,1,8,3,11,4]\n",
    "print(my_big_list[:])"
   ]
  },
  {
   "cell_type": "markdown",
   "metadata": {},
   "source": [
    "## DRILL\n",
    "\n",
    "Practice slicing lists below."
   ]
  },
  {
   "cell_type": "code",
   "execution_count": 28,
   "metadata": {
    "tags": []
   },
   "outputs": [
    {
     "name": "stdout",
     "output_type": "stream",
     "text": [
      "['on', 'lists', 'of', 'strings', 'identically']\n",
      "['Slicing', 'works', 'on', 'lists']\n",
      "['strings', 'identically']\n"
     ]
    }
   ],
   "source": [
    "this_list = [\"Slicing\",\"works\",\"on\",\"lists\",\"of\",\"strings\",\"identically\"]\n",
    "\n",
    "# Get the third to final elements\n",
    "print(this_list[2:])\n",
    "\n",
    "\n",
    "# Get everything up to the fourth element\n",
    "print(this_list[:4])\n",
    "\n",
    "\n",
    "# Get everything starting with the second-last element\n",
    "print(this_list[-2:])"
   ]
  },
  {
   "cell_type": "markdown",
   "metadata": {},
   "source": [
    "# What questions do you have about lists?"
   ]
  },
  {
   "cell_type": "markdown",
   "metadata": {},
   "source": [
    "## Variable management\n",
    "\n",
    "We've defined quite a few variables in this notebook. \n",
    "\n",
    "To see a list of them all, use the command\n",
    "\n",
    "```\n",
    "%who\n",
    "```"
   ]
  },
  {
   "cell_type": "code",
   "execution_count": 47,
   "metadata": {
    "tags": []
   },
   "outputs": [
    {
     "name": "stdout",
     "output_type": "stream",
     "text": [
      "my_big_list\t my_boolean\t my_first_list\t my_first_variable\t my_float\t my_int\t my_list\t my_list_here\t my_other_list\t \n",
      "my_string\t my_variable\t \n"
     ]
    }
   ],
   "source": [
    "%who"
   ]
  },
  {
   "cell_type": "markdown",
   "metadata": {},
   "source": [
    "This is an example of an [IPython magic command](https://ipython.readthedocs.io/en/stable/interactive/magics.html). These commands help with monitoring and managing your code environment.\n",
    "\n",
    "We should be aware of the variables that we create as they take memory and can bloat our environment.\n",
    "\n",
    "If we aren't using a variable anymore, it's not a bad idea to delete it. We can do so with `del`."
   ]
  },
  {
   "cell_type": "code",
   "execution_count": 48,
   "metadata": {},
   "outputs": [
    {
     "ename": "NameError",
     "evalue": "name 'my_big_list' is not defined",
     "output_type": "error",
     "traceback": [
      "\u001b[1;31m---------------------------------------------------------------------------\u001b[0m",
      "\u001b[1;31mNameError\u001b[0m                                 Traceback (most recent call last)",
      "\u001b[1;32m<ipython-input-48-ec7fdede963b>\u001b[0m in \u001b[0;36m<module>\u001b[1;34m\u001b[0m\n\u001b[0;32m      3\u001b[0m \u001b[1;33m\u001b[0m\u001b[0m\n\u001b[0;32m      4\u001b[0m \u001b[1;31m# my_big_list has left the building!\u001b[0m\u001b[1;33m\u001b[0m\u001b[1;33m\u001b[0m\u001b[1;33m\u001b[0m\u001b[0m\n\u001b[1;32m----> 5\u001b[1;33m \u001b[0mprint\u001b[0m\u001b[1;33m(\u001b[0m\u001b[0mmy_big_list\u001b[0m\u001b[1;33m)\u001b[0m\u001b[1;33m\u001b[0m\u001b[1;33m\u001b[0m\u001b[0m\n\u001b[0m",
      "\u001b[1;31mNameError\u001b[0m: name 'my_big_list' is not defined"
     ]
    }
   ],
   "source": [
    "# Remove the my_big_list_ variable\n",
    "del my_big_list\n",
    "\n",
    "# my_big_list has left the building!\n",
    "print(my_big_list)"
   ]
  },
  {
   "cell_type": "markdown",
   "metadata": {},
   "source": [
    "## Restarting the kernel\n",
    "\n",
    "\n",
    "We can remove *all* assigned variables by restarting the kernel. This is how our notebook communicates with the Python programming language.\n",
    "\n",
    "It's not a bad idea when you're having coding difficulties to start with restarting the kernel. \n",
    "\n",
    "![Restarting the kernel](images/restart-kernel.gif)\n",
    "\n",
    "Go ahead and restart the kernel in your notebook. But remember, *this will wipe any variables you created in your environment!*"
   ]
  },
  {
   "cell_type": "markdown",
   "metadata": {},
   "source": [
    "## Lists and data analysis\n",
    "\n",
    "Lists are a foundational variable type in Python. It's worth getting comfortable with them as a foundational variable type in Python.\n",
    "\n",
    "All that said, lists are not easily capable of handing many common data analysis tasks. Let's take doubling what we would call a \"range\" of cells, like we do in spreadsheets all the time:"
   ]
  },
  {
   "cell_type": "code",
   "execution_count": 52,
   "metadata": {},
   "outputs": [
    {
     "data": {
      "text/html": [
       "<center><iframe width=\"600\" height=\"400\" frameborder=\"0\" scrolling=\"no\" src=\"https://onedrive.live.com/embed?resid=57D2AB2A84D54C81%21997&authkey=%21AGdlGfKL9x3bed4&em=2&wdAllowInteractivity=True&AllowTyping=True&wdDownloadButton=True&wdInConfigurator=True\"></iframe></center>"
      ],
      "text/plain": [
       "<IPython.core.display.HTML object>"
      ]
     },
     "metadata": {},
     "output_type": "display_data"
    }
   ],
   "source": [
    "from IPython.core.display import display, HTML\n",
    "display(HTML('<center><iframe width=\"600\" height=\"400\" frameborder=\"0\" scrolling=\"no\" src=\"https://onedrive.live.com/embed?resid=57D2AB2A84D54C81%21997&authkey=%21AGdlGfKL9x3bed4&em=2&wdAllowInteractivity=True&AllowTyping=True&wdDownloadButton=True&wdInConfigurator=True\"></iframe></center>'))"
   ]
  },
  {
   "cell_type": "markdown",
   "metadata": {},
   "source": [
    "This is not easily done with a list, even to the first range:"
   ]
  },
  {
   "cell_type": "code",
   "execution_count": 53,
   "metadata": {},
   "outputs": [
    {
     "data": {
      "text/plain": [
       "[1, 9, 5, 3, 8, 1, 9, 5, 3, 8]"
      ]
     },
     "execution_count": 53,
     "metadata": {},
     "output_type": "execute_result"
    }
   ],
   "source": [
    "my_list = [1,9,5,3,8]\n",
    "my_list * 2"
   ]
  },
  {
   "cell_type": "markdown",
   "metadata": {},
   "source": [
    "For easier data analysis, we will make use of some external packages and modules. \n",
    "\n",
    "But before we do that, let's take some time to learn about ... packages and modules."
   ]
  },
  {
   "cell_type": "markdown",
   "metadata": {},
   "source": [
    "# Python modules\n",
    "\n",
    "Python does not come as the analytics powerhouse it is out of the box. We need to load and install a few *modules*.\n",
    "\n",
    "### The [Python standard library](https://docs.python.org/3/library/index.html)\n",
    "\n",
    "Python includes some functions and methods upon start. Others need to be called in specially. \n",
    "\n",
    "We can call in *modules*, which are bundles of code allowing us to do different things, like run different functions or methods.\n",
    "\n",
    "Some modules come included with Python in the Python standard library. \n",
    "\n",
    "For example, the `math` module is part of the standard library, so we don't need to install anything more, but we do need to call it into our session. \n",
    "\n",
    "We can do this with the `import` statement."
   ]
  },
  {
   "cell_type": "code",
   "execution_count": 55,
   "metadata": {},
   "outputs": [],
   "source": [
    "# Import the math module from the Python standard library\n",
    "import math"
   ]
  },
  {
   "cell_type": "markdown",
   "metadata": {},
   "source": [
    "We now have access to the `sqrt()` function, but when we use it, we need to tell Python *where* we got it from. We will do that by prefixing `sqrt()` with `math`:"
   ]
  },
  {
   "cell_type": "code",
   "execution_count": 56,
   "metadata": {},
   "outputs": [
    {
     "data": {
      "text/plain": [
       "10.0"
      ]
     },
     "execution_count": 56,
     "metadata": {},
     "output_type": "execute_result"
    }
   ],
   "source": [
    "# Take the square root of 100 \n",
    "# by using the math.sqrt() function:\n",
    "math.sqrt(100)"
   ]
  },
  {
   "cell_type": "markdown",
   "metadata": {},
   "source": [
    "## Drill\n",
    "\n",
    "The `factorial()` function from `math` will take the factorial of a number `X`.\n",
    "\n",
    "Find the factorial of 10 using this function."
   ]
  },
  {
   "cell_type": "markdown",
   "metadata": {},
   "source": [
    "# Installing modules\n",
    "\n",
    "Python comes with an [impressive number of modules in the standard library](https://docs.python.org/3/library/index.html), but the real power comes from installing \"aftermarket\" modules developed by the community.\n",
    "\n",
    "These modules can be submitted to and curated by the [Python Package Index](https://pypi.org).  A package is a way of bundling modules.\n",
    "\n",
    "Anyone is free to install and use these packages as they please. It's easy to install them using the `pip` package installer.\n",
    "\n",
    "From a notebook, we can install a package with the command `!pip install [package name]`."
   ]
  },
  {
   "cell_type": "code",
   "execution_count": 57,
   "metadata": {},
   "outputs": [
    {
     "name": "stdout",
     "output_type": "stream",
     "text": [
      "Requirement already satisfied: pandas in c:\\users\\user\\appdata\\roaming\\python\\python37\\site-packages (1.0.3)\n",
      "Requirement already satisfied: python-dateutil>=2.6.1 in c:\\users\\user\\anaconda3\\lib\\site-packages (from pandas) (2.8.1)\n",
      "Requirement already satisfied: numpy>=1.13.3 in c:\\users\\user\\anaconda3\\lib\\site-packages (from pandas) (1.18.5)\n",
      "Requirement already satisfied: pytz>=2017.2 in c:\\users\\user\\anaconda3\\lib\\site-packages (from pandas) (2020.1)\n",
      "Requirement already satisfied: six>=1.5 in c:\\users\\user\\anaconda3\\lib\\site-packages (from python-dateutil>=2.6.1->pandas) (1.15.0)\n"
     ]
    }
   ],
   "source": [
    "# Install a package called \"pandas\"\n",
    "!pip install pandas"
   ]
  },
  {
   "cell_type": "markdown",
   "metadata": {},
   "source": [
    "You will use packages all the time, and if you ever have an issue with one, a good place to start (after restarting the kernel!) is checking whether you have it installed, and what version.\n",
    "\n",
    "You can see all packages you've installed with `pip`, along with their versions, using `pip freeze`."
   ]
  },
  {
   "cell_type": "code",
   "execution_count": 58,
   "metadata": {
    "tags": []
   },
   "outputs": [
    {
     "name": "stdout",
     "output_type": "stream",
     "text": [
      "alabaster==0.7.12\n",
      "anaconda-client==1.7.2Note: you may need to restart the kernel to use updated packages.\n",
      "anaconda-navigator==1.9.6\n",
      "\n",
      "anaconda-project==0.8.3\n",
      "appier==1.18.24\n",
      "archspec @ file:///home/conda/feedstock_root/build_artifacts/archspec_1596649123309/work\n",
      "argh==0.26.2\n",
      "asn1crypto @ file:///C:/ci/asn1crypto_1594339244757/work\n",
      "astroid @ file:///C:/ci/astroid_1592481955828/work\n",
      "astropy==4.0.1.post1\n",
      "atomicwrites==1.4.0\n",
      "attrs==19.3.0\n",
      "autopep8 @ file:///tmp/build/80754af9/autopep8_1592412889138/work\n",
      "Babel==2.8.0\n",
      "backcall==0.2.0\n",
      "backports.shutil-get-terminal-size==1.0.0\n",
      "bcrypt==3.1.7\n",
      "beautifulsoup4==4.9.1\n",
      "bitarray @ file:///C:/ci/bitarray_1594753961793/work\n",
      "bkcharts==0.2\n",
      "bleach==3.1.5\n",
      "bokeh @ file:///C:/ci/bokeh_1593179283802/work\n",
      "boto==2.49.0\n",
      "Bottleneck==1.3.2\n",
      "brotlipy==0.7.0\n",
      "cachetools==4.0.0\n",
      "certifi==2020.6.20\n",
      "cffi==1.14.0\n",
      "chardet==3.0.4\n",
      "click==7.1.2\n",
      "cloudpickle @ file:///tmp/build/80754af9/cloudpickle_1594141588948/work\n",
      "clyent==1.2.2\n",
      "colorama==0.4.3\n",
      "comtypes==1.1.7\n",
      "conda==4.8.4\n",
      "conda-build==3.17.6\n",
      "conda-package-handling==1.7.0\n",
      "conda-verify==3.1.1\n",
      "contextlib2==0.6.0.post1\n",
      "cryptography==2.9.2\n",
      "cycler==0.10.0\n",
      "Cython @ file:///C:/ci/cython_1594834055134/work\n",
      "cytoolz==0.10.1\n",
      "dask @ file:///tmp/build/80754af9/dask-core_1594156306305/work\n",
      "decorator==4.4.2\n",
      "defusedxml==0.6.0\n",
      "Deprecated==1.2.10\n",
      "diff-match-patch @ file:///tmp/build/80754af9/diff-match-patch_1594828741838/work\n",
      "distributed @ file:///C:/ci/distributed_1594319358820/work\n",
      "docutils==0.16\n",
      "entrypoints==0.3\n",
      "et-xmlfile==1.0.1\n",
      "excel2json==1.0.1\n",
      "facebook-api==0.1.10\n",
      "facebook2==2.2.1\n",
      "fastcache==1.1.0\n",
      "filelock==3.0.12\n",
      "flake8==3.8.3\n",
      "Flask==1.1.2\n",
      "fsspec==0.7.4\n",
      "future==0.18.2\n",
      "gevent @ file:///C:/ci/gevent_1593010757573/work\n",
      "glob2==0.7\n",
      "gmpy2==2.0.8\n",
      "google-api-python-client==1.7.11\n",
      "google-auth==1.10.1\n",
      "google-auth-httplib2==0.0.3\n",
      "greenlet==0.4.16\n",
      "h5py==2.10.0\n",
      "HeapDict==1.0.1\n",
      "html5lib @ file:///tmp/build/80754af9/html5lib_1593446221756/work\n",
      "httplib2==0.16.0\n",
      "idna @ file:///tmp/build/80754af9/idna_1593446292537/work\n",
      "imageio @ file:///tmp/build/80754af9/imageio_1594161405741/work\n",
      "imagesize==1.2.0\n",
      "importlib-metadata @ file:///C:/ci/importlib-metadata_1593446525189/work\n",
      "intervaltree @ file:///tmp/build/80754af9/intervaltree_1594361675072/work\n",
      "ipykernel @ file:///C:/ci/ipykernel_1595342053367/work/dist/ipykernel-5.3.3-py3-none-any.whl\n",
      "ipython @ file:///C:/ci/ipython_1593433781269/work\n",
      "ipython-genutils==0.2.0\n",
      "ipywidgets==7.5.1\n",
      "isort==4.3.21\n",
      "itsdangerous==1.1.0\n",
      "jdcal==1.4.1\n",
      "jedi @ file:///C:/ci/jedi_1592833832328/work\n",
      "Jinja2==2.11.2\n",
      "joblib @ file:///tmp/build/80754af9/joblib_1594236160679/work\n",
      "json5==0.9.5\n",
      "jsonschema @ file:///C:/ci/jsonschema_1594363671836/work\n",
      "jupyter==1.0.0\n",
      "jupyter-client @ file:///tmp/build/80754af9/jupyter_client_1594826976318/work\n",
      "jupyter-console==6.1.0\n",
      "jupyter-contrib-core==0.3.3\n",
      "jupyter-contrib-nbextensions==0.5.1\n",
      "jupyter-core==4.6.3\n",
      "jupyter-highlight-selected-word==0.2.0\n",
      "jupyter-latex-envs==1.4.4\n",
      "jupyter-nbextensions-configurator @ file:///D:/bld/jupyter_nbextensions_configurator_1594127290135/work\n",
      "jupyterlab==2.1.5\n",
      "jupyterlab-server @ file:///tmp/build/80754af9/jupyterlab_server_1594164409481/work\n",
      "keyring @ file:///C:/ci/keyring_1593109817825/work\n",
      "kiwisolver==1.2.0\n",
      "lazy-object-proxy==1.4.3\n",
      "libarchive-c==2.9\n",
      "llvmlite==0.33.0+1.g022ab0f\n",
      "locket==0.2.0\n",
      "lxml @ file:///C:/ci/lxml_1594826938446/work\n",
      "MarkupSafe @ file:///C:/ci/markupsafe_1594405949945/work\n",
      "matplotlib @ file:///C:/ci/matplotlib-base_1592846084747/work\n",
      "mccabe==0.6.1\n",
      "menuinst==1.4.16\n",
      "mistune @ file:///C:/ci/mistune_1594373272338/work\n",
      "mkl-fft==1.1.0\n",
      "mkl-random==1.1.1\n",
      "mkl-service==2.3.0\n",
      "mock==4.0.2\n",
      "more-itertools==8.4.0\n",
      "mpmath==1.1.0\n",
      "msgpack==1.0.0\n",
      "multipledispatch==0.6.0\n",
      "navigator-updater==0.2.1\n",
      "nbconvert @ file:///C:/ci/nbconvert_1594372737468/work\n",
      "nbformat==5.0.7\n",
      "nbopen==0.6\n",
      "networkx @ file:///tmp/build/80754af9/networkx_1594377231366/work\n",
      "nltk @ file:///tmp/build/80754af9/nltk_1592496090529/work\n",
      "nose @ file:///C:/ci/nose_1594377973236/work\n",
      "notebook==6.0.3\n",
      "numba==0.50.1\n",
      "numexpr==2.7.1\n",
      "numpy==1.18.5\n",
      "numpydoc @ file:///tmp/build/80754af9/numpydoc_1594166760263/work\n",
      "oauth2client==4.1.3\n",
      "olefile==0.46\n",
      "openpyxl @ file:///tmp/build/80754af9/openpyxl_1594167385094/work\n",
      "packaging==20.4\n",
      "pandas==1.0.3\n",
      "pandocfilters==1.4.2\n",
      "paramiko==2.7.1\n",
      "parso==0.7.0\n",
      "partd==1.1.0\n",
      "path==14.0.1\n",
      "path.py==12.0.2\n",
      "pathlib2 @ file:///C:/ci/pathlib2_1594381094851/work\n",
      "pathtools==0.1.2\n",
      "patsy==0.5.1\n",
      "pep8==1.7.1\n",
      "pexpect @ file:///C:/ci/pexpect_1594383465186/work\n",
      "pickleshare @ file:///C:/ci/pickleshare_1594374056827/work\n",
      "Pillow @ file:///C:/ci/pillow_1594298234712/work\n",
      "pkginfo==1.5.0.1\n",
      "pluggy==0.13.1\n",
      "ply==3.11\n",
      "postcell==0.1.1\n",
      "prometheus-client==0.8.0\n",
      "prompt-toolkit==3.0.5\n",
      "psutil==5.7.0\n",
      "psycopg2==2.8.2\n",
      "py @ file:///tmp/build/80754af9/py_1593446248552/work\n",
      "pyasn1==0.4.8\n",
      "pyasn1-modules==0.2.8\n",
      "pycodestyle==2.6.0\n",
      "pycosat==0.6.3\n",
      "pycparser @ file:///tmp/build/80754af9/pycparser_1594388511720/work\n",
      "pycrypto==2.6.1\n",
      "pycurl==7.43.0.5\n",
      "pydocstyle @ file:///tmp/build/80754af9/pydocstyle_1592848020240/work\n",
      "PyDrive==1.3.1\n",
      "pyflakes==2.2.0\n",
      "PyGithub==1.51\n",
      "Pygments==2.6.1\n",
      "PyJWT==1.7.1\n",
      "pylint @ file:///C:/ci/pylint_1592487534522/work\n",
      "PyNaCl @ file:///C:/ci/pynacl_1595009241355/work\n",
      "pyodbc===4.0.0-unsupported\n",
      "pyOpenSSL @ file:///tmp/build/80754af9/pyopenssl_1594392929924/work\n",
      "pyparsing==2.4.7\n",
      "pyreadline==2.1\n",
      "pyrsistent==0.16.0\n",
      "PySocks @ file:///C:/ci/pysocks_1594394709107/work\n",
      "pytest==5.4.3\n",
      "python-dateutil==2.8.1\n",
      "python-jsonrpc-server @ file:///tmp/build/80754af9/python-jsonrpc-server_1594397536060/work\n",
      "python-language-server @ file:///C:/ci/python-language-server_1594152769556/work\n",
      "pytz==2020.1\n",
      "PyWavelets==1.1.1\n",
      "pywin32==227\n",
      "pywin32-ctypes @ file:///C:/ci/pywin32-ctypes_1594392691209/work\n",
      "pywinpty==0.5.7\n",
      "PyYAML==5.3.1\n",
      "pyzmq==19.0.1\n",
      "QDarkStyle==2.8.1\n",
      "QtAwesome==0.7.2\n",
      "qtconsole @ file:///tmp/build/80754af9/qtconsole_1592848611704/work\n",
      "QtPy==1.9.0\n",
      "regex @ file:///C:/ci/regex_1593435644645/work\n",
      "requests @ file:///tmp/build/80754af9/requests_1592841827918/work\n",
      "rope==0.17.0\n",
      "rsa==4.0\n",
      "Rtree==0.9.4\n",
      "ruamel-yaml==0.15.87\n",
      "scikit-image==0.16.2\n",
      "scikit-learn @ file:///C:/ci/scikit-learn_1592847564598/work\n",
      "scipy @ file:///C:/ci/scipy_1592916958183/work\n",
      "seaborn==0.10.1\n",
      "Send2Trash==1.5.0\n",
      "simplegeneric==0.8.1\n",
      "singledispatch==3.4.0.3\n",
      "six==1.15.0\n",
      "snowballstemmer==2.0.0\n",
      "sortedcollections==1.2.1\n",
      "sortedcontainers==2.2.2\n",
      "soupsieve==2.0.1\n",
      "Sphinx @ file:///tmp/build/80754af9/sphinx_1594223420021/work\n",
      "sphinxcontrib-applehelp==1.0.2\n",
      "sphinxcontrib-devhelp==1.0.2\n",
      "sphinxcontrib-htmlhelp==1.0.3\n",
      "sphinxcontrib-jsmath==1.0.1\n",
      "sphinxcontrib-qthelp==1.0.3\n",
      "sphinxcontrib-serializinghtml==1.1.4\n",
      "sphinxcontrib-websupport @ file:///tmp/build/80754af9/sphinxcontrib-websupport_1593446360927/work\n",
      "spyder @ file:///C:/ci/spyder_1594826266791/work\n",
      "spyder-kernels @ file:///C:/ci/spyder-kernels_1594751701920/work\n",
      "SQLAlchemy @ file:///C:/ci/sqlalchemy_1593445585180/work\n",
      "statsmodels==0.11.1\n",
      "sympy @ file:///C:/ci/sympy_1594234541241/work\n",
      "tables==3.6.1\n",
      "tblib==1.6.0\n",
      "terminado==0.8.3\n",
      "testpath==0.4.4\n",
      "threadpoolctl @ file:///tmp/tmp9twdgx9k/threadpoolctl-2.1.0-py3-none-any.whl\n",
      "toml @ file:///tmp/build/80754af9/toml_1592853716807/work\n",
      "toolz==0.10.0\n",
      "tornado==6.0.4\n",
      "tqdm @ file:///tmp/build/80754af9/tqdm_1593446365756/work\n",
      "traitlets==4.3.3\n",
      "typed-ast==1.4.1\n",
      "typing-extensions @ file:///tmp/build/80754af9/typing_extensions_1592847887441/work\n",
      "ujson==1.35\n",
      "unicodecsv==0.14.1\n",
      "uritemplate==3.0.1\n",
      "urllib3==1.25.9\n",
      "watchdog @ file:///C:/ci/watchdog_1593446515400/work\n",
      "wcwidth @ file:///tmp/build/80754af9/wcwidth_1593447189090/work\n",
      "webencodings==0.5.1\n",
      "Werkzeug==1.0.1\n",
      "widgetsnbextension==3.5.1\n",
      "win-inet-pton==1.1.0\n",
      "win-unicode-console==0.5\n",
      "wincertstore==0.2\n",
      "wrapt==1.11.2\n",
      "xlrd==1.2.0\n",
      "XlsxWriter==1.2.9\n",
      "xlwings==0.19.5\n",
      "xlwt==1.3.0\n",
      "yapf @ file:///tmp/build/80754af9/yapf_1593528177422/work\n",
      "zict==2.0.0\n",
      "zipp==3.1.0\n",
      "zope.event==4.4\n",
      "zope.interface==4.7.1\n"
     ]
    }
   ],
   "source": [
    "pip freeze"
   ]
  },
  {
   "cell_type": "markdown",
   "metadata": {},
   "source": [
    "# Drill \n",
    "\n",
    "One interesting thing about packages is that they can be based on top of and borrow code from other packages!\n",
    "\n",
    "Install the `seaborn` package. This is a visualization package that we'll use later in the class, that is indeed built on top of another visualization package."
   ]
  },
  {
   "cell_type": "code",
   "execution_count": null,
   "metadata": {},
   "outputs": [],
   "source": [
    "# Install seaborn package"
   ]
  },
  {
   "cell_type": "markdown",
   "metadata": {},
   "source": [
    "# Questions about modules and packages?"
   ]
  },
  {
   "cell_type": "code",
   "execution_count": null,
   "metadata": {},
   "outputs": [],
   "source": []
  }
 ],
 "metadata": {
  "kernelspec": {
   "display_name": "Python 3",
   "language": "python",
   "name": "python3"
  },
  "language_info": {
   "codemirror_mode": {
    "name": "ipython",
    "version": 3
   },
   "file_extension": ".py",
   "mimetype": "text/x-python",
   "name": "python",
   "nbconvert_exporter": "python",
   "pygments_lexer": "ipython3",
   "version": "3.7.1"
  }
 },
 "nbformat": 4,
 "nbformat_minor": 2
}
