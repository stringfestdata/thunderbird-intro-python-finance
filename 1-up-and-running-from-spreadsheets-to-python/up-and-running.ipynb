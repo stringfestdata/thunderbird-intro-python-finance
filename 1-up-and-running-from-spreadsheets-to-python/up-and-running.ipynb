{
 "cells": [
  {
   "cell_type": "markdown",
   "metadata": {},
   "source": [
    "# Up and running from spreadsheets to Python\n",
    "\n",
    "## Hello, Jupyter\n",
    "\n",
    "This is the interface that we will use to execute `.ipynb`, or IPython notebook files. \n",
    "\n",
    "You may also often see Python files with a `.py` extension. These are *script* files versus *notebook* files.\n",
    "\n",
    "Notebooks are divided into cells which can be either text or code, among other things.\n",
    "\n",
    "Go ahead and click into this cell. What happens? "
   ]
  },
  {
   "cell_type": "markdown",
   "metadata": {},
   "source": [
    "You can add, reorder, cut and paste cells using the menu icons. "
   ]
  },
  {
   "cell_type": "markdown",
   "metadata": {},
   "source": [
    "(From a new cell)  you are seeing *raw Markdown* styling in the above cell. \n",
    "\n",
    "You can close out of it by **running the cell.** `Ctrl + Enter` is the keyboard shortcut.\n",
    "\n",
    "Markdown allows us to style text using plain-text format. \n",
    "\n",
    "There's [a lot you can do with Markdown](https://www.markdownguide.org/cheat-sheet). Some basics:\n",
    "\n",
    "# Big Header 1\n",
    "## Smaller Header 2\n",
    "### Even smaller headers\n",
    "#### Still more\n",
    "\n",
    "*Using one asterisk renders italics*\n",
    "\n",
    "**Using two asterisks renders bold**\n",
    "\n",
    "It's worth studying up on Markdown to write elegant text in your notebooks. \n",
    "\n",
    "But in this class we'll focus on the *code* block, because that's where executable code goes!\n"
   ]
  },
  {
   "cell_type": "markdown",
   "metadata": {},
   "source": [
    "## Python as a fancy calculator\n",
    "\n",
    "We can use Python as a highfalutin calculator, just as you might do with Excel.\n",
    "\n",
    "Enter some basic arithmetic below, then **run the cell** (Do you remember how to do that?)."
   ]
  },
  {
   "cell_type": "code",
   "execution_count": null,
   "metadata": {},
   "outputs": [],
   "source": [
    "# This is a code block. \n",
    "# You can execute code here.\n",
    "\n",
    "# Python can be used as a fancy calculator.\n",
    "1+1"
   ]
  },
  {
   "cell_type": "markdown",
   "metadata": {},
   "source": [
    "Some of these arithmetic operators are the same as in Excel, but others are different:\n",
    "\n",
    "\n",
    "| Operator | Description    |\n",
    "| -------- | -------------- |\n",
    "| `+`      | Addition       |\n",
    "| `-`      | Subtraction    |\n",
    "| `*`      | Multiplication       |\n",
    "| `/`      | Division       |\n",
    "| `%`      | Modulus        |\n",
    "| `**`     | Exponent       |\n",
    "| `//`     | Floor division |"
   ]
  },
  {
   "cell_type": "markdown",
   "metadata": {},
   "source": [
    "Python follows the same PEMDAS order of operations that Excel does:"
   ]
  },
  {
   "cell_type": "code",
   "execution_count": null,
   "metadata": {},
   "outputs": [],
   "source": [
    "# Is this -2 or -4?\n",
    "2 - 3 * 2"
   ]
  },
  {
   "cell_type": "markdown",
   "metadata": {},
   "source": [
    "## Cell comments\n",
    "\n",
    "What's the deal with the hashtags and text in the above cell?\n",
    "\n",
    "Those are cell comments used to give us verbal instructions and reminders about our code. This helps other users -- and ourselves -- remember what we are doing with it.\n",
    "\n",
    "![Gandalf coding meme](images/gandalf.jpg)\n",
    "\n",
    "And yes, you can embed images into notebooks 😎.\n",
    "\n",
    "Write your own comments in the cell below.\n"
   ]
  },
  {
   "cell_type": "code",
   "execution_count": null,
   "metadata": {},
   "outputs": [],
   "source": []
  },
  {
   "cell_type": "markdown",
   "metadata": {},
   "source": [
    "### Running functions\n",
    "\n",
    "Python includes many functions for working with data.\n",
    "\n",
    "Functions take arguments inside parentheses, just like in Excel:"
   ]
  },
  {
   "cell_type": "code",
   "execution_count": null,
   "metadata": {},
   "outputs": [],
   "source": [
    "# We can also call functions:\n",
    "# Let's find the absolute value of -100\n",
    "abs(-100)"
   ]
  },
  {
   "cell_type": "markdown",
   "metadata": {},
   "source": [
    "There are some important differences:"
   ]
  },
  {
   "cell_type": "code",
   "execution_count": null,
   "metadata": {},
   "outputs": [],
   "source": [
    "# These aren't going to work to find them!\n",
    "ABS(-100)"
   ]
  },
  {
   "cell_type": "code",
   "execution_count": null,
   "metadata": {},
   "outputs": [],
   "source": [
    "Abs(-100)"
   ]
  },
  {
   "cell_type": "markdown",
   "metadata": {},
   "source": [
    "Moral of the story: **Python is case-sensitive** and all-around finicky. "
   ]
  },
  {
   "cell_type": "markdown",
   "metadata": {},
   "source": [
    "## Comparison operators\n",
    "\n",
    "We can also test for whether one value is greater than another, much like you would do in Excel:"
   ]
  },
  {
   "cell_type": "code",
   "execution_count": null,
   "metadata": {},
   "outputs": [],
   "source": [
    "# Is 3 > 4?\n",
    "3 > 4"
   ]
  },
  {
   "cell_type": "markdown",
   "metadata": {},
   "source": [
    "Like in Excel, Python will return either a `True` or `False`. \n",
    "\n",
    "Much of these conditional operators will look familiar to you:\n",
    "\n",
    "| Operator | Meaning                  |\n",
    "| -------- | ------------------------ |\n",
    "| `>`      | Greater than             |\n",
    "| `<`      | Less than                |\n",
    "| `>=`     | Greater than or equal to |\n",
    "| `<=`     | Less than or equal to    |\n",
    "| `!=`     | Not equal to             |\n",
    "| **`==`**     | **Equal to**                 |\n"
   ]
  },
  {
   "cell_type": "markdown",
   "metadata": {},
   "source": [
    "Did you catch that last one?\n",
    "\n",
    "You do not check for whether two values are equal to each other using `=`, but instead using `==`. Why?\n",
    "\n",
    "Because in Python, we assign data to *variables*. This is a game-changer!"
   ]
  },
  {
   "cell_type": "markdown",
   "metadata": {},
   "source": [
    "## Assigning variables\n",
    "\n",
    "Calling functions like `abs(-100)` can be useful, but where things get *really* interesting in Python is by assigning results of operations to variables.\n",
    "\n",
    "Let's go ahead and pass the absolute value of -100 to a variable, `my_first_variable`."
   ]
  },
  {
   "cell_type": "code",
   "execution_count": null,
   "metadata": {},
   "outputs": [],
   "source": [
    "my_first_variable = abs(-100)"
   ]
  },
  {
   "cell_type": "markdown",
   "metadata": {},
   "source": [
    "The result of `abs(-100)` has been stored in a *variable* or *object*, which will make it much easier for us to refer to and use it. \n",
    "\n",
    "### Printing variables\n",
    "\n",
    "To see the result of that variable, we can *print* it using the `print()` function: "
   ]
  },
  {
   "cell_type": "code",
   "execution_count": null,
   "metadata": {
    "tags": []
   },
   "outputs": [],
   "source": [
    "print(my_first_variable)"
   ]
  },
  {
   "cell_type": "markdown",
   "metadata": {},
   "source": [
    "It's not necessary to include the function in Jupyter; simply run the object's name to print:"
   ]
  },
  {
   "cell_type": "code",
   "execution_count": null,
   "metadata": {},
   "outputs": [],
   "source": [
    "my_first_variable"
   ]
  },
  {
   "cell_type": "markdown",
   "metadata": {},
   "source": [
    "What do you think the result of the below will be?"
   ]
  },
  {
   "cell_type": "code",
   "execution_count": null,
   "metadata": {},
   "outputs": [],
   "source": [
    "MY_FIRST_VARIABLE"
   ]
  },
  {
   "cell_type": "markdown",
   "metadata": {},
   "source": [
    "## Python variable naming conventions\n",
    "\n",
    "\n",
    "In theory, you can name your variables almost anything so long as they fit these rules:\n",
    "\n",
    "- They must start with a letter or underscore.\n",
    "- The rest of your variable can only contain letters, numbers or underscores.\n",
    "\n",
    "But `sales` may be a better name for sales data than `scooby_doo`. \n",
    "\n",
    "### DRILL\n",
    "\n",
    "Based on these rules, which of the following is an invalid variable name?\n",
    "\n",
    "A. `My_string_`  \n",
    "B. `string_1`  \n",
    "C. `razzle.dazzle`  \n",
    "D. `_`  "
   ]
  },
  {
   "cell_type": "code",
   "execution_count": null,
   "metadata": {},
   "outputs": [],
   "source": [
    "# Try assigning and printing these variables if you're not sure!\n",
    "\n",
    "_ = 1\n",
    "print(_)\n",
    "\n",
    "razzle.dazzle = abs(-19)\n",
    "print(razzle.dazzle)"
   ]
  },
  {
   "cell_type": "markdown",
   "metadata": {},
   "source": [
    "## Variable types\n",
    "\n",
    "You can think about a variable as a box that we are putting a piece of information into. \n",
    "\n",
    "Variables can be of different types, like different categories and dimensions of boxes. \n",
    "\n",
    "![variables shoebox](images/variables-shoebox.png)\n",
    "\n"
   ]
  },
  {
   "cell_type": "markdown",
   "metadata": {},
   "source": [
    "Some of these distinctions between data types are found in Excel, although you will find Python to be much more exacting about them:\n"
   ]
  },
  {
   "cell_type": "markdown",
   "metadata": {},
   "source": [
    "![data types in Excel](images/data-types-excel.PNG)"
   ]
  },
  {
   "cell_type": "markdown",
   "metadata": {},
   "source": [
    "You can find a variable's type with the `type()` function."
   ]
  },
  {
   "cell_type": "code",
   "execution_count": null,
   "metadata": {},
   "outputs": [],
   "source": [
    "# Integer\n",
    "my_int = 2\n",
    "type(my_int)"
   ]
  },
  {
   "cell_type": "code",
   "execution_count": null,
   "metadata": {},
   "outputs": [],
   "source": [
    "# Float(ing point decimal)\n",
    "my_float = 2.222\n",
    "type(my_float)"
   ]
  },
  {
   "cell_type": "code",
   "execution_count": null,
   "metadata": {},
   "outputs": [],
   "source": [
    "# String\n",
    "my_string = 'Hello'\n",
    "type(my_string)"
   ]
  },
  {
   "cell_type": "code",
   "execution_count": null,
   "metadata": {},
   "outputs": [],
   "source": [
    "# Boolean\n",
    "my_boolean = True\n",
    "type(my_boolean)"
   ]
  },
  {
   "cell_type": "markdown",
   "metadata": {},
   "source": [
    "We can call functions directly on these variables.\n",
    "\n",
    "In fact, that's what we were doing with `print()` and `type()` all along!"
   ]
  },
  {
   "cell_type": "code",
   "execution_count": null,
   "metadata": {},
   "outputs": [],
   "source": [
    "# Absolute value of my_int\n",
    "abs(my_int)"
   ]
  },
  {
   "cell_type": "code",
   "execution_count": null,
   "metadata": {},
   "outputs": [],
   "source": [
    "# Length of my_string\n",
    "len(my_string)"
   ]
  },
  {
   "cell_type": "code",
   "execution_count": null,
   "metadata": {
    "tags": []
   },
   "outputs": [],
   "source": [
    "# Assign the product to a variable\n",
    "my_nonsense = abs(my_int) * len(my_string)\n",
    "my_nonsense"
   ]
  },
  {
   "cell_type": "markdown",
   "metadata": {},
   "source": [
    "# DRILLS\n",
    "\n",
    "1. Assign the sum of -10 and 2 to `a`.\n",
    "2. Assign the absolute value of `a` to `b`.\n",
    "3. Assign `b` minus 1 as `d`.\n",
    "4. Print the result of `d`. What is the value? What type is this variable?\n",
    "\n",
    "You can insert a code cell below to conduct your work.\n"
   ]
  },
  {
   "cell_type": "markdown",
   "metadata": {},
   "source": [
    "# From spreadsheet ranges to Python lists\n",
    "\n",
    "Generally in spreadsheets we want to operate on multiple cells at a time and the same is true in Python. "
   ]
  },
  {
   "cell_type": "code",
   "execution_count": null,
   "metadata": {},
   "outputs": [],
   "source": [
    "# You know how to assign the number 1 to a variable... do it now!\n",
    "my_variable = 1"
   ]
  },
  {
   "cell_type": "markdown",
   "metadata": {},
   "source": [
    "What about the numbers 1, 2 and 3? Do we have to assign each to its own variable?\n",
    "\n",
    "Thank heavens not! We can use a *collection* variable to to assign all of them at once. Let's look at a common collection data type, a list.\n",
    "\n",
    "## Lists\n",
    "\n",
    "Lists are denoted with brackets `[]`. \n",
    "\n",
    "Each *element* of the list is separated by commas `,`."
   ]
  },
  {
   "cell_type": "code",
   "execution_count": null,
   "metadata": {},
   "outputs": [],
   "source": [
    "# Make a list\n",
    "my_first_list = [1, 2, 3]\n",
    "my_first_list"
   ]
  },
  {
   "cell_type": "code",
   "execution_count": null,
   "metadata": {},
   "outputs": [],
   "source": [
    "type(my_first_list)"
   ]
  },
  {
   "cell_type": "markdown",
   "metadata": {},
   "source": [
    "Notice that the type isn't `integer` but `list`. This is its own type of variable!\n",
    "\n",
    "Lists can contain all sorts of individual data types inside of it.\n",
    "\n",
    "![List shoebox](images/list-shoebox.png)"
   ]
  },
  {
   "cell_type": "code",
   "execution_count": null,
   "metadata": {},
   "outputs": [],
   "source": [
    "my_other_list = [1, 2, 3, \"Boo!\"]\n",
    "type(my_other_list)"
   ]
  },
  {
   "cell_type": "markdown",
   "metadata": {},
   "source": [
    "They can even contain *other lists*!"
   ]
  },
  {
   "cell_type": "code",
   "execution_count": null,
   "metadata": {},
   "outputs": [],
   "source": [
    "my_list_here = [1, 2, 3, [1, 2, 3, \"Boo!\"]]\n",
    "type(my_list_here)"
   ]
  },
  {
   "cell_type": "markdown",
   "metadata": {},
   "source": [
    "We can find the number of *elements* in a list using the `len()` function. Any list inside a list is considered one element."
   ]
  },
  {
   "cell_type": "code",
   "execution_count": null,
   "metadata": {},
   "outputs": [],
   "source": [
    "len(my_list_here)"
   ]
  },
  {
   "cell_type": "markdown",
   "metadata": {},
   "source": [
    "# DRILL\n",
    "\n",
    "1. Create a list containing the values `North`, `East`, `South` and `West`.  \n",
    "2. What is the result of the below?\n",
    "\n",
    "```\n",
    "len(['Monday','Tuesday','Wednesday','Thursday','Friday',['Saturday','Sunday']])\n",
    "```"
   ]
  },
  {
   "cell_type": "markdown",
   "metadata": {},
   "source": [
    "# Modifying lists\n",
    "\n",
    "There are several ways you might want to manipulate a list. Let's look at a couple of common ones.\n",
    "\n",
    "## Sorting lists \n",
    "\n",
    "You can do this using the `.sort()` method. A method is similar to a function, but we will suffix our variable with it. \n",
    "\n",
    "The method will operate directly on our variable."
   ]
  },
  {
   "cell_type": "code",
   "execution_count": null,
   "metadata": {},
   "outputs": [],
   "source": [
    "my_list = [-1, 4, 3, 2]\n",
    "\n",
    "# This is a method\n",
    "my_list.sort()\n",
    "\n",
    "my_list"
   ]
  },
  {
   "cell_type": "markdown",
   "metadata": {},
   "source": [
    "Methods can contain arguments: for example, we can set `reverse` to `True` to sort the list in reverse:"
   ]
  },
  {
   "cell_type": "code",
   "execution_count": null,
   "metadata": {},
   "outputs": [],
   "source": [
    "my_list.sort(reverse=True)\n",
    "my_list"
   ]
  },
  {
   "cell_type": "markdown",
   "metadata": {},
   "source": [
    "## Appending lists\n",
    "\n",
    "We can add elements to our list using the `.append()` method."
   ]
  },
  {
   "cell_type": "code",
   "execution_count": null,
   "metadata": {},
   "outputs": [],
   "source": [
    "# Add number 0 to the list\n",
    "my_list.append(0)\n",
    "my_list"
   ]
  },
  {
   "cell_type": "code",
   "execution_count": null,
   "metadata": {},
   "outputs": [],
   "source": [
    "# Let's re-sort our list!\n",
    "my_list.sort()\n",
    "my_list"
   ]
  },
  {
   "cell_type": "markdown",
   "metadata": {},
   "source": [
    "For other list methods, [check out this article](https://www.w3schools.com/python/python_ref_list.asp)."
   ]
  },
  {
   "cell_type": "markdown",
   "metadata": {},
   "source": [
    "# DRILL\n",
    "\n",
    "1. What do you expect to be the result of the following? Run the code and see how you did.\n",
    "\n",
    "```\n",
    "my_week = (['Monday','Tuesday','Wednesday','Thursday','Friday','Saturday','Sunday'])\n",
    "my_week.sort()\n",
    "print(my_week)\n",
    "```\n",
    "\n",
    "2. Pass the `clear()` method to `my_week` from above. What happens?"
   ]
  },
  {
   "cell_type": "markdown",
   "metadata": {},
   "source": [
    "# What questions do you have about variables?"
   ]
  },
  {
   "cell_type": "markdown",
   "metadata": {},
   "source": [
    " # Lists and Python indexing  \n",
    "\n",
    "Have you ever accidentaly downloaded the same files multiple times and seen something like this?\n",
    "\n",
    "![Computer downloads are an example of zero-based indexing](images/zero-based-index.png)\n",
    "\n",
    "The first time you downloaded it, there was no number given. But after that, the file was suffixed with the numbers 1, 2, 3, and so on. \n",
    "\n",
    "This is an everyday example of *zero-based indexing*. \n",
    "\n",
    "We tend to count things from 1... **but Python counts from *zero*.** "
   ]
  },
  {
   "cell_type": "code",
   "execution_count": null,
   "metadata": {},
   "outputs": [],
   "source": [
    "my_list = [7, 12, 5, 10, 9]"
   ]
  },
  {
   "cell_type": "markdown",
   "metadata": {},
   "source": [
    "We would like to pull out the third element of this list.\n",
    "\n",
    "We can do so using this notation:\n",
    "\n",
    "```\n",
    "list[position number]\n",
    "```\n",
    "So let's try it:"
   ]
  },
  {
   "cell_type": "code",
   "execution_count": null,
   "metadata": {},
   "outputs": [],
   "source": [
    "# Get the third element from my list... right?\n",
    "my_list[3]"
   ]
  },
  {
   "cell_type": "markdown",
   "metadata": {},
   "source": [
    "### Wrong!\n",
    "\n",
    "This gets us the *fourth* element...\n",
    "\n",
    "...so what gives?\n",
    "\n",
    "This is zero-based indexing at work. What we see as the third element is to Python in the second *position*:\n",
    "\n",
    "\n",
    "| `0` | `1` | `2` | `3` | `4` |\n",
    "| --- | --- | --- | --- | --- |\n",
    "| 7   | 12  | 5   | 10  | 9   |\n",
    "\n",
    "Let's try again:\n"
   ]
  },
  {
   "cell_type": "code",
   "execution_count": null,
   "metadata": {},
   "outputs": [],
   "source": [
    "my_list[2]"
   ]
  },
  {
   "cell_type": "markdown",
   "metadata": {},
   "source": [
    "Nice work!\n",
    "\n",
    "![Kip meme](images/kip-yes.gif)\n",
    "\n"
   ]
  },
  {
   "cell_type": "markdown",
   "metadata": {},
   "source": [
    "### Negative indexing\n",
    "\n",
    "It's also worth noting that you can index starting at the *end* of the list, as well.\n",
    "\n",
    "The first element will be in position `-1`.\n",
    "\n",
    "| `0`<br>`-5` | `1`<br>`-4` | `2`<br>`-3` | `3`<br>`-2` | `4`<br>`-1` |\n",
    "| ----------- | ----------- | ----------- | ----------- | ----------- |\n",
    "| 7           | 12          | 5           | 10          | 9           |\n",
    "  \n",
    "\n",
    "Give it a try!"
   ]
  },
  {
   "cell_type": "code",
   "execution_count": null,
   "metadata": {},
   "outputs": [],
   "source": [
    "my_list = [7, 12, 5, 10, 9]\n",
    "\n",
    "# Find the next-to-last element in the list \n",
    "# using a negative index \n",
    "\n",
    "my_list[-2]"
   ]
  },
  {
   "cell_type": "markdown",
   "metadata": {},
   "source": [
    "## Slicing a list\n",
    "\n",
    "What if we wanted to index multiple elements of a list at once?\n",
    "\n",
    "This is called *slicing* and ... of course, it's got a loophole! \n",
    "\n",
    "The basic notation for slicing a list is\n",
    "\n",
    "`list[starting_element:ending_element]`\n",
    " \n",
    "However, the result is *exclusive* of the ending element. 🙈\n",
    "\n",
    "Let's take an example."
   ]
  },
  {
   "cell_type": "code",
   "execution_count": null,
   "metadata": {},
   "outputs": [],
   "source": [
    "my_list = [7, 12, 5, 10, 9]\n",
    "\n",
    "# This gives me the \n",
    "# first through second elements... right?\n",
    "my_list[0:1]"
   ]
  },
  {
   "cell_type": "markdown",
   "metadata": {},
   "source": [
    "### Wrong!\n",
    "\n",
    "The ending element is not included in the final results. You get everything *up until* that element.\n",
    "\n",
    "Weird, right?\n",
    "\n",
    "![Head scratch](images/confused.gif)\n",
    "\n",
    "Because our result is *exclusive* of that final element, we'll need:"
   ]
  },
  {
   "cell_type": "code",
   "execution_count": null,
   "metadata": {},
   "outputs": [],
   "source": [
    "# This actually gives me the first\n",
    "# through second elements 🤷‍♀️\n",
    "my_list[0:2]"
   ]
  },
  {
   "cell_type": "markdown",
   "metadata": {},
   "source": [
    "Let's see this in action a couple more times."
   ]
  },
  {
   "cell_type": "code",
   "execution_count": null,
   "metadata": {
    "tags": []
   },
   "outputs": [],
   "source": [
    "my_list = [7, 12, 5, 10, 9]\n",
    "\n",
    "# First through second elements\n",
    "print(my_list[0:2])\n",
    "\n",
    "# Third through fifth elements\n",
    "print(my_list[2:5])\n",
    "\n",
    "# Fourth-last through second-last elements\n",
    "print(my_list[-4:-1])"
   ]
  },
  {
   "cell_type": "markdown",
   "metadata": {},
   "source": [
    "## Drill\n",
    "\n",
    "Practice some more slicing below:"
   ]
  },
  {
   "cell_type": "code",
   "execution_count": null,
   "metadata": {},
   "outputs": [],
   "source": [
    "my_list = [7, 12, 5, 10, 9]\n",
    "\n",
    "# Get the first through third elements\n",
    "\n",
    "\n",
    "# Get the third-last to second-last elements\n",
    "\n",
    "\n",
    "# Get the second through last elements\n"
   ]
  },
  {
   "cell_type": "markdown",
   "metadata": {},
   "source": [
    "## Slicing to/from first/last elements\n",
    "\n",
    "Remember our notation for slicing a list:\n",
    "\n",
    "`list[starting_element:ending_element]`\n",
    "\n",
    "If we leave part of our slice blank, Python will index *all* the remaining elements in the list:"
   ]
  },
  {
   "cell_type": "code",
   "execution_count": null,
   "metadata": {
    "tags": []
   },
   "outputs": [],
   "source": [
    "my_list = [7, 12, 5, 10, 9]\n",
    "# Print the second through the end element\n",
    "my_list[1:]"
   ]
  },
  {
   "cell_type": "code",
   "execution_count": null,
   "metadata": {},
   "outputs": [],
   "source": [
    "my_big_list = [1, 3, 2, 5, 3, 1, 8, 3, 11, 4]\n",
    "# Works the same here\n",
    "my_big_list[1:]"
   ]
  },
  {
   "cell_type": "markdown",
   "metadata": {},
   "source": [
    "Likewise, we can get everything from the *beginning* of the list to a certain element by leaving the first part of our slice bank:"
   ]
  },
  {
   "cell_type": "code",
   "execution_count": null,
   "metadata": {
    "tags": []
   },
   "outputs": [],
   "source": [
    "# Get everything but the last element\n",
    "my_list = [7, 12, 5, 10, 9]\n",
    "my_list[:-1]"
   ]
  },
  {
   "cell_type": "code",
   "execution_count": null,
   "metadata": {},
   "outputs": [],
   "source": [
    "my_big_list = [1, 3, 2, 5, 3, 1, 8, 3, 11, 4]\n",
    "# Get everything up until the fourth element\n",
    "my_big_list[:4]"
   ]
  },
  {
   "cell_type": "code",
   "execution_count": null,
   "metadata": {},
   "outputs": [],
   "source": [
    "# Yes, this would print the whole list 😎\n",
    "my_big_list = [1, 3, 2, 5, 3, 1, 8, 3, 11, 4]\n",
    "my_big_list[:]"
   ]
  },
  {
   "cell_type": "markdown",
   "metadata": {},
   "source": [
    "# What questions do you have about lists?"
   ]
  },
  {
   "cell_type": "markdown",
   "metadata": {},
   "source": [
    "## Variable management\n",
    "\n",
    "We've defined quite a few variables in this notebook. \n",
    "\n",
    "To see a list of them all, use the command\n",
    "\n",
    "```\n",
    "%who\n",
    "```"
   ]
  },
  {
   "cell_type": "code",
   "execution_count": null,
   "metadata": {
    "tags": []
   },
   "outputs": [],
   "source": [
    "%who"
   ]
  },
  {
   "cell_type": "markdown",
   "metadata": {},
   "source": [
    "This is an example of an [IPython magic command](https://ipython.readthedocs.io/en/stable/interactive/magics.html). These commands help with monitoring and managing your code environment.\n"
   ]
  },
  {
   "cell_type": "markdown",
   "metadata": {},
   "source": [
    "## Restarting the kernel\n",
    "\n",
    "\n",
    "We can remove *all* assigned variables by restarting the kernel. This is how our notebook communicates with the Python programming language.\n",
    "\n",
    "It's not a bad idea when you're having coding difficulties to start with restarting the kernel. \n",
    "\n",
    "![Restarting the kernel](images/restart-kernel.gif)\n",
    "\n",
    "Go ahead and restart the kernel in your notebook. But remember, *this will wipe any variables you created in your environment!*"
   ]
  },
  {
   "cell_type": "markdown",
   "metadata": {},
   "source": [
    "## Lists and data analysis\n",
    "\n",
    "Lists are a foundational variable type in Python. It's worth getting comfortable with them.\n",
    "\n",
    "All that said, lists are not easily capable of handing many common data analysis tasks. Let's take doubling what we would call a \"range\" of cells, like we do in spreadsheets all the time:"
   ]
  },
  {
   "cell_type": "markdown",
   "metadata": {},
   "source": [
    "![Range multiplication in Excel](images/range-multiplication.png)"
   ]
  },
  {
   "cell_type": "markdown",
   "metadata": {},
   "source": [
    "This is not easily done with a list, even to the first range:"
   ]
  },
  {
   "cell_type": "code",
   "execution_count": null,
   "metadata": {},
   "outputs": [],
   "source": [
    "my_list = [1, 9, 5, 3, 8]\n",
    "my_list * 2"
   ]
  },
  {
   "cell_type": "markdown",
   "metadata": {},
   "source": [
    "For easier data analysis, we will make use of some external packages and modules. \n",
    "\n",
    "But before we do that, let's take some time to learn about ... packages and modules."
   ]
  },
  {
   "cell_type": "markdown",
   "metadata": {},
   "source": [
    "# Python modules\n",
    "\n",
    "Python does not come as the analytics powerhouse it is out of the box. We need to load and install a few *modules*.\n",
    "\n",
    "### The [Python standard library](https://docs.python.org/3/library/index.html)\n",
    "\n",
    "Python includes some functions and methods upon start, such as `abs()` and `.sort()`. Others need to be called in specially. \n",
    "\n",
    "We can call in *modules*, which are bundles of code allowing us to do different things, like run different functions or methods.\n",
    "\n",
    "Some modules come included with Python in the Python standard library. \n",
    "\n",
    "For example, the `math` module is part of the standard library, so we don't need to install anything more, but we do need to call it into our session. \n",
    "\n",
    "We can do this with the `import` statement."
   ]
  },
  {
   "cell_type": "code",
   "execution_count": null,
   "metadata": {},
   "outputs": [],
   "source": [
    "# Import the math module from the Python standard library\n",
    "import math"
   ]
  },
  {
   "cell_type": "markdown",
   "metadata": {},
   "source": [
    "We now have access to the `sqrt()` function,"
   ]
  },
  {
   "cell_type": "code",
   "execution_count": null,
   "metadata": {},
   "outputs": [],
   "source": [
    "# Why didn't this work?\n",
    "sqrt(100)"
   ]
  },
  {
   "cell_type": "markdown",
   "metadata": {},
   "source": [
    " but when we use it, we need to tell Python *where* we got it from. We will do that by prefixing `sqrt()` with `math`:"
   ]
  },
  {
   "cell_type": "code",
   "execution_count": null,
   "metadata": {},
   "outputs": [],
   "source": [
    "# Take the square root of 100 \n",
    "# by using the math.sqrt() function:\n",
    "math.sqrt(100)"
   ]
  },
  {
   "cell_type": "markdown",
   "metadata": {},
   "source": [
    "## Drill\n",
    "\n",
    "The `factorial()` function from `math` will take the factorial of a number `X`.\n",
    "\n",
    "Find the factorial of 10 using this function."
   ]
  },
  {
   "cell_type": "code",
   "execution_count": null,
   "metadata": {},
   "outputs": [],
   "source": []
  },
  {
   "cell_type": "markdown",
   "metadata": {},
   "source": [
    "# Installing modules\n",
    "\n",
    "Python comes with an [impressive number of modules in the standard library](https://docs.python.org/3/library/index.html), but the real power comes from installing \"aftermarket\" modules developed by the community.\n",
    "\n",
    "These modules can be submitted to and curated by the [Python Package Index](https://pypi.org).  A package is a way of bundling modules.\n",
    "\n",
    "Anyone is free to install and use these packages as they please. It's easy to install them using the `pip` package installer.\n",
    "\n",
    "From a notebook, we can install a package with the command `!pip install [package name]`."
   ]
  },
  {
   "cell_type": "code",
   "execution_count": null,
   "metadata": {},
   "outputs": [],
   "source": [
    "# Install a package called \"pandas\"\n",
    "# Don't run this; it's been installed already\n",
    "# !pip install pandas"
   ]
  },
  {
   "cell_type": "markdown",
   "metadata": {},
   "source": [
    "_However_, when you are working with an Anaconda distribution of Python, it's better to download packages direcly from Anaconda: `!conda install [package name]`.\n",
    "\n",
    "To see what packages come installed with Anaconda, and what packages you can install from there, head to [Anaconda's documentation](https://docs.anaconda.com/anaconda/packages/py3.7_win-64/)."
   ]
  },
  {
   "cell_type": "markdown",
   "metadata": {},
   "source": [
    "# Drill \n",
    "\n",
    "Import the `seaborn` package. This is a visualization package that we'll use later in the class."
   ]
  },
  {
   "cell_type": "code",
   "execution_count": null,
   "metadata": {},
   "outputs": [],
   "source": [
    "# Import seaborn package"
   ]
  },
  {
   "cell_type": "markdown",
   "metadata": {},
   "source": [
    "# Questions about modules and packages?"
   ]
  }
 ],
 "metadata": {
  "kernelspec": {
   "display_name": "Python 3",
   "language": "python",
   "name": "python3"
  },
  "language_info": {
   "codemirror_mode": {
    "name": "ipython",
    "version": 3
   },
   "file_extension": ".py",
   "mimetype": "text/x-python",
   "name": "python",
   "nbconvert_exporter": "python",
   "pygments_lexer": "ipython3",
   "version": "3.7.4"
  }
 },
 "nbformat": 4,
 "nbformat_minor": 2
}
