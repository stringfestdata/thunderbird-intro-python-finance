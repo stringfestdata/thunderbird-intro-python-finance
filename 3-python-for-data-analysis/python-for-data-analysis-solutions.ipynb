{
 "cells": [
  {
   "cell_type": "markdown",
   "metadata": {},
   "source": [
    "## Drill\n",
    "\n",
    "The `data` folder of this worksheet contains a workbook called `wholesale.xlsx`.  This is a real-life dataset from UC Irvine's [Machine Learning Repository](http://archive.ics.uci.edu/ml/datasets/Wholesale+customers) (a good site to bookmark!).\n",
    "\n",
    "Read in the `data` worksheet from this workbook below as a DataFrame called `wholesale` and explore it:"
   ]
  },
  {
   "cell_type": "code",
   "execution_count": null,
   "metadata": {},
   "outputs": [],
   "source": [
    "import pandas as pd\n",
    "wholesale = pd.read_excel('data/wholesale.xlsx',sheet_name='data')\n",
    "wholesale.head()"
   ]
  },
  {
   "cell_type": "markdown",
   "metadata": {},
   "source": [
    "Create a column `Scratch` which is a total of the `Fresh` and `Frozen` columns. "
   ]
  },
  {
   "cell_type": "code",
   "execution_count": null,
   "metadata": {},
   "outputs": [],
   "source": [
    "wholesale['Scratch'] = wholesale['Fresh']+wholesale['Frozen']\n",
    "wholesale.head()"
   ]
  },
  {
   "cell_type": "markdown",
   "metadata": {},
   "source": [
    "Now, delete this column. "
   ]
  },
  {
   "cell_type": "code",
   "execution_count": null,
   "metadata": {},
   "outputs": [],
   "source": [
    "wholesale = wholesale.drop('Scratch',axis=1)\n",
    "wholesale.head()"
   ]
  },
  {
   "cell_type": "markdown",
   "metadata": {},
   "source": [
    "## Drill\n",
    "\n",
    "Sort `wholesale` by `Channel`, low to high, then `Region`, high to low. "
   ]
  },
  {
   "cell_type": "code",
   "execution_count": null,
   "metadata": {},
   "outputs": [],
   "source": [
    "# Filter by multiple columns\n",
    "wholesale.sort_values(by=['Channel','Region'], ascending=[True,False])"
   ]
  },
  {
   "cell_type": "markdown",
   "metadata": {},
   "source": [
    "## Drill\n",
    "\n",
    "Filter the records of `wholesale` that are either in Channel 1 or Region 3. "
   ]
  },
  {
   "cell_type": "code",
   "execution_count": null,
   "metadata": {},
   "outputs": [],
   "source": [
    "channel_1 = wholesale['Channel'] == 1\n",
    "region_3 = wholesale['Region'] == 3\n",
    "\n",
    "wholesale_filtered = wholesale[channel_1 | region_3]\n",
    "wholesale_filtered.shape"
   ]
  },
  {
   "cell_type": "markdown",
   "metadata": {},
   "source": [
    "## Drill \n",
    "\n",
    "Group the data to get average `Milk` sales by `Region`, then the most `Frozen` sales for each `Channel`. "
   ]
  },
  {
   "cell_type": "code",
   "execution_count": null,
   "metadata": {},
   "outputs": [],
   "source": [
    "# Average milk sales by region \n",
    "wholesale.groupby('Region')[['Milk']].mean()"
   ]
  },
  {
   "cell_type": "code",
   "execution_count": null,
   "metadata": {},
   "outputs": [],
   "source": [
    "# Most frozen sales for each channel\n",
    "wholesale.groupby('Channel')[['Frozen']].max()"
   ]
  },
  {
   "cell_type": "markdown",
   "metadata": {},
   "source": [
    "## DRILL\n",
    "\n",
    "The `wholesale` workbook has another worksheet called `regions` containing descriptions for `Region`.\n",
    "\n",
    "Read this DataFrame into Excel and then merge it into `wholesale`. "
   ]
  },
  {
   "cell_type": "code",
   "execution_count": null,
   "metadata": {},
   "outputs": [],
   "source": [
    "regions = pd.read_excel('data/wholesale.xlsx',sheet_name='regions')\n",
    "regions.head()"
   ]
  },
  {
   "cell_type": "code",
   "execution_count": null,
   "metadata": {},
   "outputs": [],
   "source": [
    "wholesale.merge(regions)"
   ]
  },
  {
   "cell_type": "markdown",
   "metadata": {},
   "source": [
    "## DRILL\n",
    "\n",
    "Write the results of `wholesale` to `wholesale-work.xlsx` in the `data` folder of this section."
   ]
  },
  {
   "cell_type": "code",
   "execution_count": null,
   "metadata": {},
   "outputs": [],
   "source": [
    "____.___('___/wholesale-work___')"
   ]
  }
 ],
 "metadata": {
  "kernelspec": {
   "display_name": "Python 3",
   "language": "python",
   "name": "python3"
  },
  "language_info": {
   "codemirror_mode": {
    "name": "ipython",
    "version": 3
   },
   "file_extension": ".py",
   "mimetype": "text/x-python",
   "name": "python",
   "nbconvert_exporter": "python",
   "pygments_lexer": "ipython3",
   "version": "3.7.4"
  }
 },
 "nbformat": 4,
 "nbformat_minor": 2
}
