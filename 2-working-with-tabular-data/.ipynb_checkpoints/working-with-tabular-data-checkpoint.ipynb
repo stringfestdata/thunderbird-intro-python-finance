{
 "cells": [
  {
   "cell_type": "markdown",
   "metadata": {},
   "source": [
    "# Working with tabular data\n",
    "\n",
    "## Introducing `numpy`\n",
    "\n",
    "In the last module you saw some of the limitations for quick quantiative analysis using built-in Python functionalities:"
   ]
  },
  {
   "cell_type": "code",
   "execution_count": 1,
   "metadata": {},
   "outputs": [
    {
     "data": {
      "text/plain": [
       "[4, 1, 5, 2, 4, 1, 5, 2]"
      ]
     },
     "execution_count": 1,
     "metadata": {},
     "output_type": "execute_result"
    }
   ],
   "source": [
    "# It's hard to calculate on lists!\n",
    "my_list = [4,1,5,2]\n",
    "\n",
    "my_list * 2"
   ]
  },
  {
   "cell_type": "markdown",
   "metadata": {},
   "source": [
    "Fortunately you also learned about packages -- they'll come to our rescue!\n",
    "\n",
    "Let's store these same numbers in what's called a `numpy` *array*. \n",
    "\n",
    "This involves importing the `numpy` package. \n",
    "\n",
    "`numpy` is short for \"numerical Python.\"\n",
    "\n",
    "Generally when we are using a package for the first time, we need to do one of these:"
   ]
  },
  {
   "cell_type": "code",
   "execution_count": 1,
   "metadata": {
    "tags": []
   },
   "outputs": [
    {
     "name": "stdout",
     "output_type": "stream",
     "text": [
      "Requirement already satisfied: numpy in c:\\users\\georgem\\anaconda3\\lib\\site-packages (1.16.5)\n"
     ]
    }
   ],
   "source": [
    "# Install numpy\n",
    "#!pip install numpy"
   ]
  },
  {
   "cell_type": "markdown",
   "metadata": {},
   "source": [
    "However, `numpy` was installed already when we installed `pandas`.\n",
    "\n",
    "We *do* still need to import `numpy` before using it: "
   ]
  },
  {
   "cell_type": "code",
   "execution_count": 9,
   "metadata": {
    "tags": []
   },
   "outputs": [
    {
     "name": "stdout",
     "output_type": "stream",
     "text": [
      "[4 1 5 2]\n",
      "[4 1 5 2]\n"
     ]
    }
   ],
   "source": [
    "import numpy"
   ]
  },
  {
   "cell_type": "markdown",
   "metadata": {},
   "source": [
    "We can use `numpy.array()` to create an array."
   ]
  },
  {
   "cell_type": "code",
   "execution_count": null,
   "metadata": {},
   "outputs": [],
   "source": [
    "my_array = numpy.array([4,1,5,2])\n",
    "print(my_array)"
   ]
  },
  {
   "cell_type": "markdown",
   "metadata": {},
   "source": [
    "We can also convert our list to an array:"
   ]
  },
  {
   "cell_type": "code",
   "execution_count": null,
   "metadata": {},
   "outputs": [],
   "source": [
    "my_list_to_array = numpy.array(my_list)\n",
    "print(my_list_to_array)"
   ]
  },
  {
   "cell_type": "markdown",
   "metadata": {},
   "source": [
    "`numpy` arrays work in many ways like ranges of a spreadsheet..."
   ]
  },
  {
   "cell_type": "code",
   "execution_count": 10,
   "metadata": {
    "tags": []
   },
   "outputs": [
    {
     "name": "stdout",
     "output_type": "stream",
     "text": [
      "[ 8  2 10  4]\n",
      "[ 8  2 10  4]\n"
     ]
    }
   ],
   "source": [
    "# Isn't this what you were expecting earlier?\n",
    "\n",
    "print(my_array * 2)\n",
    "print(my_list_to_array * 2)"
   ]
  },
  {
   "cell_type": "markdown",
   "metadata": {},
   "source": [
    "Lists and arrays may *look* the same to you, but they are different data types to Python:"
   ]
  },
  {
   "cell_type": "code",
   "execution_count": 14,
   "metadata": {
    "tags": []
   },
   "outputs": [
    {
     "name": "stdout",
     "output_type": "stream",
     "text": [
      "<class 'list'>\n",
      "<class 'numpy.ndarray'>\n"
     ]
    }
   ],
   "source": [
    "my_list = [4,1,5,2]\n",
    "my_array = numpy.array([4,1,5,2])\n",
    "\n",
    "print(type(my_list))\n",
    "print(type(my_array))"
   ]
  },
  {
   "cell_type": "markdown",
   "metadata": {},
   "source": [
    "Based on what we're seeing, we may want to be calling for `numpy` *quite* often. \n",
    "\n",
    "Let's look at a cool \"hack\" for doing so...\n",
    "\n",
    "### Aliasing modules\n",
    "\n",
    "Remember that each time we use a function or method associated with `numpy`, we need to tell Python where to look for it: "
   ]
  },
  {
   "cell_type": "code",
   "execution_count": 11,
   "metadata": {},
   "outputs": [
    {
     "data": {
      "text/plain": [
       "array([ 2.,  4.,  5., 10.])"
      ]
     },
     "execution_count": 11,
     "metadata": {},
     "output_type": "execute_result"
    }
   ],
   "source": [
    "# Create another array...\n",
    "my_other_array = numpy.array([4,16,25,100])\n",
    "\n",
    "# numpy has a square root function of its own...\n",
    "numpy.sqrt(my_other_array)"
   ]
  },
  {
   "cell_type": "markdown",
   "metadata": {},
   "source": [
    "I am already getting sick of typing `numpy` each time I want to use something from it! Can't we make this easier?\n",
    "\n",
    "Yes. Yes, we can.\n",
    "\n",
    "Turns out we can temporarily rename, or *alias*, the `numpy` module when we import it. We will use the format:\n",
    "\n",
    "```\n",
    "import [name of module] as [alias]\n",
    "```\n",
    "\n",
    "`np` is a popular alias for `numpy`. Rather than calling for `numpy` each time you are using methods from that library, you can simply type `np`. \n",
    "\n"
   ]
  },
  {
   "cell_type": "code",
   "execution_count": 2,
   "metadata": {},
   "outputs": [
    {
     "data": {
      "text/plain": [
       "array([ 2.,  4.,  5., 10.])"
      ]
     },
     "execution_count": 2,
     "metadata": {},
     "output_type": "execute_result"
    }
   ],
   "source": [
    "import numpy as np\n",
    "\n",
    "# Create another array...\n",
    "my_other_array = np.array([4,16,25,100])\n",
    "\n",
    "# numpy has a square root function of its own...\n",
    "np.sqrt(my_other_array)"
   ]
  },
  {
   "cell_type": "markdown",
   "metadata": {},
   "source": [
    "### Drill\n",
    "\n",
    "Take a shot at assigning an array and finding its square root using this aliasing method. "
   ]
  },
  {
   "cell_type": "code",
   "execution_count": null,
   "metadata": {},
   "outputs": [],
   "source": [
    "# Import and alias the module\n",
    "\n",
    "import ___ ___ ___\n",
    "\n",
    "# Create an array\n",
    "my_new_array = ___.___([36, 49, 64, 81])\n",
    "\n",
    "# Take its square root\n",
    "np.___(___)"
   ]
  },
  {
   "cell_type": "markdown",
   "metadata": {
    "tags": []
   },
   "source": [
    "Aliasing saved you some keystrokes, huh?\n",
    "\n",
    "![Life hackz](life-hackz.gif)\n",
    "\n",
    "## Accessing and reshaping arrays\n",
    "\n",
    "Python indexes *everything* at zero, not just lists. This includes `numpy` arrays!"
   ]
  },
  {
   "cell_type": "code",
   "execution_count": 15,
   "metadata": {
    "tags": []
   },
   "outputs": [
    {
     "name": "stdout",
     "output_type": "stream",
     "text": [
      "1\n",
      "4\n"
     ]
    }
   ],
   "source": [
    "my_list = [4,1,5,2]\n",
    "\n",
    "# Access first element of the array\n",
    "print(my_list[1])\n",
    "\n",
    "# Oh sorry... NOW I'm accessing the first element! 🤦‍♂️\n",
    "print(my_list[0])"
   ]
  },
  {
   "cell_type": "markdown",
   "metadata": {},
   "source": [
    "You've already sweated through zero-based indexing, so let's move on... to two-dimensional arrays. \n",
    "\n",
    "(You will see that you'll never truly escape zero-based indexing in Python, however... 😼)\n",
    "\n",
    "## Two-dimensional arrays in `numpy`\n",
    "\n",
    "So far, we have been working on one-dimensional sets of data. But what if we wanted to mix that up? \n",
    "\n",
    "![Illustration of numpy arrays](numpy-arrays.png)\n",
    "\n",
    "\n",
    "\n",
    "*Source: Nunez-Iglesias, Juan, Stéfan Van Der Walt, and Harriet Dashnow. *Elegant SciPy: The Art of Scientific Python.* O'Reilly Media, 2017.*\n",
    "\n",
    "\n",
    "`numpy` can create three-dimensional arrays, but let's focus on two: this is a familiar way to shape data as it's how data is often is stored in spreadsheets (as rows and columns).\n",
    "\n",
    "\n",
    "We can create a two-dimensional array in `numpy` with the `array()` function. This time we will "
   ]
  },
  {
   "cell_type": "code",
   "execution_count": 3,
   "metadata": {
    "tags": []
   },
   "outputs": [
    {
     "name": "stdout",
     "output_type": "stream",
     "text": [
      "[[3 4 1]\n",
      " [2 5 0]]\n"
     ]
    }
   ],
   "source": [
    "# Create a two-dimensional array with `np.array()`\n",
    "\n",
    "my_2d_array = np.array([[3,4,1],[2,5,0]])\n",
    "print(my_2d_array)"
   ]
  },
  {
   "cell_type": "markdown",
   "metadata": {},
   "source": [
    "We can also re-shape an existing one-dimensional array into a two-dimensional array using `np.reshape()`"
   ]
  },
  {
   "cell_type": "code",
   "execution_count": 2,
   "metadata": {
    "tags": []
   },
   "outputs": [
    {
     "name": "stdout",
     "output_type": "stream",
     "text": [
      "[1 2 3 4 5 6]\n",
      "[[1 2 3]\n",
      " [4 5 6]]\n"
     ]
    }
   ],
   "source": [
    "# New array\n",
    "my_array = np.array([1,2,3,4,5,6])\n",
    "print(my_array)\n",
    "\n",
    "# Let's make a 2 x 3 array\n",
    "my_reshaped_array = np.reshape(my_array, (2, 3))\n",
    "print(my_reshaped_array)"
   ]
  },
  {
   "cell_type": "markdown",
   "metadata": {},
   "source": [
    "A two-dimensional array is starting to look like the kind of dataset that you might actually work with as a spreadsheet user, with rows and columns."
   ]
  },
  {
   "cell_type": "markdown",
   "metadata": {},
   "source": [
    "## Inspecting our arrays\n",
    "\n",
    "Variables in Python carry different `attributes` which we can find using the format \n",
    "\n",
    "`variable.[attribute]`\n",
    "\n",
    "\n",
    "Some attributes we can use to learn more about our `numpy` arrays are:\n",
    "\n",
    "`shape`: gives us the dimensions of the array.  \n",
    "`size`: gives us the number of elements of the array.   \n",
    "`dtype`: gives us the data type of the elements of the array.   "
   ]
  },
  {
   "cell_type": "code",
   "execution_count": 8,
   "metadata": {
    "tags": []
   },
   "outputs": [
    {
     "name": "stdout",
     "output_type": "stream",
     "text": [
      "(2, 3)\n",
      "6\n",
      "int32\n"
     ]
    }
   ],
   "source": [
    "print(my_reshaped_array.shape)\n",
    "print(my_reshaped_array.size)\n",
    "print(my_reshaped_array.dtype)"
   ]
  },
  {
   "cell_type": "markdown",
   "metadata": {},
   "source": [
    "### Indexing and slicing our arrays\n",
    "\n",
    "Remember when I said that zero-based indexing never really goes away? I wasn't kidding. \n",
    "\n",
    "Now we have to index on *two* counts: the row and the column. Our indexing of two-dimensional `numpy` arrays will look like this \n",
    "\n",
    "`np_array[row_number, column_number]`\n",
    "\n",
    "Some examples:\n",
    "\n"
   ]
  },
  {
   "cell_type": "code",
   "execution_count": 4,
   "metadata": {
    "tags": []
   },
   "outputs": [
    {
     "name": "stdout",
     "output_type": "stream",
     "text": [
      "[[1 2 3]\n",
      " [4 5 6]]\n"
     ]
    },
    {
     "data": {
      "text/plain": [
       "1"
      ]
     },
     "execution_count": 4,
     "metadata": {},
     "output_type": "execute_result"
    }
   ],
   "source": [
    "print(my_reshaped_array)\n",
    "\n",
    "# Get the value in first row, first column\n",
    "# Never forget zero-based indexing!\n",
    "my_reshaped_array[0,0]\n"
   ]
  },
  {
   "cell_type": "code",
   "execution_count": 5,
   "metadata": {},
   "outputs": [
    {
     "data": {
      "text/plain": [
       "2"
      ]
     },
     "execution_count": 5,
     "metadata": {},
     "output_type": "execute_result"
    }
   ],
   "source": [
    "# What about the second-last row/second-last column?\n",
    "my_reshaped_array[-2,-2]"
   ]
  },
  {
   "cell_type": "code",
   "execution_count": 7,
   "metadata": {},
   "outputs": [
    {
     "data": {
      "text/plain": [
       "array([[1, 2],\n",
       "       [4, 5]])"
      ]
     },
     "execution_count": 7,
     "metadata": {},
     "output_type": "execute_result"
    }
   ],
   "source": [
    "# What about up through the second row and second column?\n",
    "my_reshaped_array[:2,:2]"
   ]
  },
  {
   "cell_type": "markdown",
   "metadata": {},
   "source": [
    "Indexing will be important when accessing and indexing data, and in Python it will **always be zero-based**!"
   ]
  },
  {
   "cell_type": "markdown",
   "metadata": {},
   "source": [
    "# DRILL\n",
    "\n",
    "Practice your `numpy` skills by operating on a large array. \n",
    "\n",
    "I will get you started; complete the operations based on what the comments are asking for. "
   ]
  },
  {
   "cell_type": "code",
   "execution_count": 18,
   "metadata": {
    "tags": []
   },
   "outputs": [
    {
     "name": "stdout",
     "output_type": "stream",
     "text": [
      "[47. 21. 23. 24. 45.  6. 30. 43. 45. 23.  2. 46.  4. 34. 42.  2. 47. 14.\n",
      " 18.  9. 50. 34. 12. 24. 42. 24.  3. 39. 17. 15. 37. 18. 46. 25.  9. 41.\n",
      " 45. 34. 22. 26. 27. 44. 28.  4. 15. 31.  3. 39. 15. 23.  5. 27. 11. 25.\n",
      " 16. 11.  2. 43. 35. 45. 27. 48. 44. 20.  4. 21.  8. 48. 29. 20. 15. 20.\n",
      " 37. 17.  6. 13. 39. 25.  5. 11.  4. 20. 47.  9.  2.  8. 44. 40.  8.  1.\n",
      " 45. 26. 43. 10. 22. 24.  3. 48. 29. 49.]\n"
     ]
    }
   ],
   "source": [
    "# Don't worry about this part -- I am reading the file into Python.\n",
    "# You will learn how to read files into Python in the next unit. \n",
    "my_array = np.genfromtxt('numpy-drill.csv')\n",
    "print(my_array)"
   ]
  },
  {
   "cell_type": "code",
   "execution_count": 23,
   "metadata": {},
   "outputs": [
    {
     "data": {
      "text/plain": [
       "100"
      ]
     },
     "execution_count": 23,
     "metadata": {},
     "output_type": "execute_result"
    }
   ],
   "source": [
    "# What is the shape of this array?\n",
    "# This also tells us how many dimensions there are --\n",
    "# one number means one dimension\n",
    "my_array.___"
   ]
  },
  {
   "cell_type": "code",
   "execution_count": null,
   "metadata": {},
   "outputs": [],
   "source": [
    "# What is its datatype?\n",
    "___"
   ]
  },
  {
   "cell_type": "code",
   "execution_count": 20,
   "metadata": {},
   "outputs": [
    {
     "data": {
      "text/plain": [
       "(100,)"
      ]
     },
     "execution_count": 20,
     "metadata": {},
     "output_type": "execute_result"
    }
   ],
   "source": [
    "# Reshape this result into a 10x10 array\n",
    "my_array = np.reshape(___, ___)"
   ]
  },
  {
   "cell_type": "code",
   "execution_count": null,
   "metadata": {},
   "outputs": [],
   "source": [
    "# What is the shape of our array now?\n",
    "___"
   ]
  },
  {
   "cell_type": "code",
   "execution_count": null,
   "metadata": {},
   "outputs": [],
   "source": [
    "# Take the sqrt of this array\n",
    "my_array = np.___(___)\n",
    "my_array"
   ]
  },
  {
   "cell_type": "code",
   "execution_count": 21,
   "metadata": {},
   "outputs": [
    {
     "data": {
      "text/plain": [
       "array([6.8556546 , 4.58257569, 4.79583152, 4.89897949, 6.70820393,\n",
       "       2.44948974, 5.47722558, 6.55743852, 6.70820393, 4.79583152,\n",
       "       1.41421356, 6.78232998, 2.        , 5.83095189, 6.4807407 ,\n",
       "       1.41421356, 6.8556546 , 3.74165739, 4.24264069, 3.        ,\n",
       "       7.07106781, 5.83095189, 3.46410162, 4.89897949, 6.4807407 ,\n",
       "       4.89897949, 1.73205081, 6.244998  , 4.12310563, 3.87298335,\n",
       "       6.08276253, 4.24264069, 6.78232998, 5.        , 3.        ,\n",
       "       6.40312424, 6.70820393, 5.83095189, 4.69041576, 5.09901951,\n",
       "       5.19615242, 6.63324958, 5.29150262, 2.        , 3.87298335,\n",
       "       5.56776436, 1.73205081, 6.244998  , 3.87298335, 4.79583152,\n",
       "       2.23606798, 5.19615242, 3.31662479, 5.        , 4.        ,\n",
       "       3.31662479, 1.41421356, 6.55743852, 5.91607978, 6.70820393,\n",
       "       5.19615242, 6.92820323, 6.63324958, 4.47213595, 2.        ,\n",
       "       4.58257569, 2.82842712, 6.92820323, 5.38516481, 4.47213595,\n",
       "       3.87298335, 4.47213595, 6.08276253, 4.12310563, 2.44948974,\n",
       "       3.60555128, 6.244998  , 5.        , 2.23606798, 3.31662479,\n",
       "       2.        , 4.47213595, 6.8556546 , 3.        , 1.41421356,\n",
       "       2.82842712, 6.63324958, 6.32455532, 2.82842712, 1.        ,\n",
       "       6.70820393, 5.09901951, 6.55743852, 3.16227766, 4.69041576,\n",
       "       4.89897949, 1.73205081, 6.92820323, 5.38516481, 7.        ])"
      ]
     },
     "execution_count": 21,
     "metadata": {},
     "output_type": "execute_result"
    }
   ],
   "source": [
    "# Access the element in the fourth row\n",
    "# and second column of the array\n",
    "my_array___"
   ]
  },
  {
   "cell_type": "markdown",
   "metadata": {},
   "source": [
    "# Working with `pandas`\n",
    "\n",
    "When you think of \"tabular data\" in Python, think of `pandas`. \n",
    "\n",
    "This package is built on top of `numpy`, but brings some extra functionalities for us. \n"
   ]
  },
  {
   "cell_type": "markdown",
   "metadata": {},
   "source": [
    "### `pandas` Series\n",
    "\n",
    "These are one-dimensional data structures in `pandas`. \n",
    "\n",
    "We won't spend too much time analyzing these, but it's important to know that `pandas` will by default convert any one-dimensional data structure into a Series. \n",
    "\n",
    "\n",
    "![pandas Series](images/series.png)"
   ]
  },
  {
   "cell_type": "markdown",
   "metadata": {},
   "source": [
    "### DataFrames\n",
    "\n",
    "We will focus on the `pandas` DataFrame, which is a two-dimensional, tabular data structure with labeled rows and columns. Below is an example:\n",
    "\n",
    "![`pandas` DataFrame example](images/dataframe.png)\n",
    "\n",
    "\n",
    "*Look familiar?* This is very much the way we often store data in a spreadsheet.\n",
    "\n",
    "One key difference between `numpy` arrays and  `pandas` DataFrames is that the columns of DataFrames can be of different data types:\n",
    "\n",
    "![DataFrame column data types](images/datatypes.png)\n",
    "\n",
    "This is a *lot* like a spreadsheet!"
   ]
  },
  {
   "cell_type": "markdown",
   "metadata": {},
   "source": [
    "## Importing `pandas`\n",
    "\n",
    "Same as with `numpy`, we will need to call in `pandas` each time we want to use it.\n",
    "\n",
    "Similarly to `numpy`, it is common to *alias* `pandas` when we import it. This alias usually takes the form:\n",
    "\n",
    "`import pandas as pd`\n",
    "\n",
    "Go ahead and try it yourself in the cell below!"
   ]
  },
  {
   "cell_type": "code",
   "execution_count": 9,
   "metadata": {},
   "outputs": [],
   "source": [
    "# Load pandas into our session\n",
    "import pandas as pd"
   ]
  },
  {
   "cell_type": "markdown",
   "metadata": {},
   "source": [
    "### Creating DataFrames\n",
    "\n",
    "There are several ways to create a DataFrame. We could, for example, convert a `numpy` array into one, using the `DataFrame` function."
   ]
  },
  {
   "cell_type": "code",
   "execution_count": 10,
   "metadata": {
    "tags": []
   },
   "outputs": [
    {
     "data": {
      "text/html": [
       "<div>\n",
       "<style scoped>\n",
       "    .dataframe tbody tr th:only-of-type {\n",
       "        vertical-align: middle;\n",
       "    }\n",
       "\n",
       "    .dataframe tbody tr th {\n",
       "        vertical-align: top;\n",
       "    }\n",
       "\n",
       "    .dataframe thead th {\n",
       "        text-align: right;\n",
       "    }\n",
       "</style>\n",
       "<table border=\"1\" class=\"dataframe\">\n",
       "  <thead>\n",
       "    <tr style=\"text-align: right;\">\n",
       "      <th></th>\n",
       "      <th>0</th>\n",
       "      <th>1</th>\n",
       "      <th>2</th>\n",
       "    </tr>\n",
       "  </thead>\n",
       "  <tbody>\n",
       "    <tr>\n",
       "      <td>0</td>\n",
       "      <td>1</td>\n",
       "      <td>2</td>\n",
       "      <td>3</td>\n",
       "    </tr>\n",
       "    <tr>\n",
       "      <td>1</td>\n",
       "      <td>4</td>\n",
       "      <td>5</td>\n",
       "      <td>6</td>\n",
       "    </tr>\n",
       "  </tbody>\n",
       "</table>\n",
       "</div>"
      ],
      "text/plain": [
       "   0  1  2\n",
       "0  1  2  3\n",
       "1  4  5  6"
      ]
     },
     "execution_count": 10,
     "metadata": {},
     "output_type": "execute_result"
    }
   ],
   "source": [
    "# Create our array\n",
    "numpy_data = np.array([[1,2,3], [4,5,6]])\n",
    "\n",
    "# Convert into a DataFrame\n",
    "df = pd.DataFrame(data=numpy_data)\n",
    "\n",
    "df"
   ]
  },
  {
   "cell_type": "markdown",
   "metadata": {},
   "source": [
    "By default, our DataFrame includes column *names* and row *index labels*... **starting at zero**!\n",
    "\n",
    "![labelled image of DataFrames](images/dataframe-labelled.png)\n",
    "\n",
    "It's common to keep the index labels as numeric, but to name the columns. Let's do it:"
   ]
  },
  {
   "cell_type": "code",
   "execution_count": 11,
   "metadata": {},
   "outputs": [
    {
     "data": {
      "text/html": [
       "<div>\n",
       "<style scoped>\n",
       "    .dataframe tbody tr th:only-of-type {\n",
       "        vertical-align: middle;\n",
       "    }\n",
       "\n",
       "    .dataframe tbody tr th {\n",
       "        vertical-align: top;\n",
       "    }\n",
       "\n",
       "    .dataframe thead th {\n",
       "        text-align: right;\n",
       "    }\n",
       "</style>\n",
       "<table border=\"1\" class=\"dataframe\">\n",
       "  <thead>\n",
       "    <tr style=\"text-align: right;\">\n",
       "      <th></th>\n",
       "      <th>Column A</th>\n",
       "      <th>Column B</th>\n",
       "      <th>Column C</th>\n",
       "    </tr>\n",
       "  </thead>\n",
       "  <tbody>\n",
       "    <tr>\n",
       "      <td>0</td>\n",
       "      <td>1</td>\n",
       "      <td>2</td>\n",
       "      <td>3</td>\n",
       "    </tr>\n",
       "    <tr>\n",
       "      <td>1</td>\n",
       "      <td>4</td>\n",
       "      <td>5</td>\n",
       "      <td>6</td>\n",
       "    </tr>\n",
       "  </tbody>\n",
       "</table>\n",
       "</div>"
      ],
      "text/plain": [
       "   Column A  Column B  Column C\n",
       "0         1         2         3\n",
       "1         4         5         6"
      ]
     },
     "execution_count": 11,
     "metadata": {},
     "output_type": "execute_result"
    }
   ],
   "source": [
    "# Create our array\n",
    "numpy_data = np.array([[1,2,3], [4,5,6]])\n",
    "\n",
    "# Convert into a DataFrame,\n",
    "# name the columns\n",
    "df = pd.DataFrame(data=numpy_data, columns=['Column A','Column B','Column C'])\n",
    "\n",
    "df"
   ]
  },
  {
   "cell_type": "markdown",
   "metadata": {},
   "source": [
    "## Reading data into `pandas`\n",
    "\n",
    "While it's possible to create a DataFrame from an existing data structure (like a `numpy` array), you'll more likely do by importing data from an outside source. \n",
    "\n",
    "`pandas` can create DataFrames from practically any data format, including SQL databases and HTML. But let's focus on `csv` files and Excel workbooks."
   ]
  },
  {
   "cell_type": "markdown",
   "metadata": {},
   "source": [
    "### Reading from `csv` files\n",
    "\n",
    "We can import a `csv` file as a DataFrame with `read_csv()`.\n",
    "\n",
    "There are a *lot* of [optional arguments to provide `read_csv()`](https://pandas.pydata.org/pandas-docs/stable/reference/api/pandas.read_csv.html), but we *must* provide a file path.\n"
   ]
  },
  {
   "cell_type": "markdown",
   "metadata": {},
   "source": [
    "#### Interlude: file paths and directories\n",
    "\n",
    "It can sometimes be tricky to locate *where* a file is located to read it into Python.\n",
    "\n",
    "By default, the file path you specify needs to be *relative to* the locations of your Python file. If you aren't sure where that is, you can check your *working directory* with `os.getcwd()`"
   ]
  },
  {
   "cell_type": "code",
   "execution_count": 15,
   "metadata": {},
   "outputs": [
    {
     "data": {
      "text/plain": [
       "'c:\\\\Users\\\\GeorgeM\\\\Documents\\\\GitHub\\\\olt-first-steps-with-python-for-spreadsheet-users\\\\2-working-with-tabular-data'"
      ]
     },
     "execution_count": 15,
     "metadata": {},
     "output_type": "execute_result"
    }
   ],
   "source": [
    "# What folder am I operating in on my computer?\n",
    "os.getcwd()"
   ]
  },
  {
   "cell_type": "markdown",
   "metadata": {},
   "source": [
    "In this case, the `state-populations.csv` file is located in the `data` folder of this directory, so we can find it here:"
   ]
  },
  {
   "cell_type": "code",
   "execution_count": 12,
   "metadata": {},
   "outputs": [
    {
     "data": {
      "text/html": [
       "<div>\n",
       "<style scoped>\n",
       "    .dataframe tbody tr th:only-of-type {\n",
       "        vertical-align: middle;\n",
       "    }\n",
       "\n",
       "    .dataframe tbody tr th {\n",
       "        vertical-align: top;\n",
       "    }\n",
       "\n",
       "    .dataframe thead th {\n",
       "        text-align: right;\n",
       "    }\n",
       "</style>\n",
       "<table border=\"1\" class=\"dataframe\">\n",
       "  <thead>\n",
       "    <tr style=\"text-align: right;\">\n",
       "      <th></th>\n",
       "      <th>name</th>\n",
       "      <th>Year</th>\n",
       "      <th>Population</th>\n",
       "    </tr>\n",
       "  </thead>\n",
       "  <tbody>\n",
       "    <tr>\n",
       "      <td>0</td>\n",
       "      <td>Alabama</td>\n",
       "      <td>2010</td>\n",
       "      <td>4785492</td>\n",
       "    </tr>\n",
       "    <tr>\n",
       "      <td>1</td>\n",
       "      <td>Alabama</td>\n",
       "      <td>2011</td>\n",
       "      <td>4799918</td>\n",
       "    </tr>\n",
       "    <tr>\n",
       "      <td>2</td>\n",
       "      <td>Alabama</td>\n",
       "      <td>2012</td>\n",
       "      <td>4815960</td>\n",
       "    </tr>\n",
       "    <tr>\n",
       "      <td>3</td>\n",
       "      <td>Alabama</td>\n",
       "      <td>2013</td>\n",
       "      <td>4829479</td>\n",
       "    </tr>\n",
       "    <tr>\n",
       "      <td>4</td>\n",
       "      <td>Alabama</td>\n",
       "      <td>2014</td>\n",
       "      <td>4843214</td>\n",
       "    </tr>\n",
       "    <tr>\n",
       "      <td>...</td>\n",
       "      <td>...</td>\n",
       "      <td>...</td>\n",
       "      <td>...</td>\n",
       "    </tr>\n",
       "    <tr>\n",
       "      <td>352</td>\n",
       "      <td>Wyoming</td>\n",
       "      <td>2012</td>\n",
       "      <td>576765</td>\n",
       "    </tr>\n",
       "    <tr>\n",
       "      <td>353</td>\n",
       "      <td>Wyoming</td>\n",
       "      <td>2013</td>\n",
       "      <td>582684</td>\n",
       "    </tr>\n",
       "    <tr>\n",
       "      <td>354</td>\n",
       "      <td>Wyoming</td>\n",
       "      <td>2014</td>\n",
       "      <td>583642</td>\n",
       "    </tr>\n",
       "    <tr>\n",
       "      <td>355</td>\n",
       "      <td>Wyoming</td>\n",
       "      <td>2015</td>\n",
       "      <td>586555</td>\n",
       "    </tr>\n",
       "    <tr>\n",
       "      <td>356</td>\n",
       "      <td>Wyoming</td>\n",
       "      <td>2016</td>\n",
       "      <td>585501</td>\n",
       "    </tr>\n",
       "  </tbody>\n",
       "</table>\n",
       "<p>357 rows × 3 columns</p>\n",
       "</div>"
      ],
      "text/plain": [
       "        name  Year  Population\n",
       "0    Alabama  2010     4785492\n",
       "1    Alabama  2011     4799918\n",
       "2    Alabama  2012     4815960\n",
       "3    Alabama  2013     4829479\n",
       "4    Alabama  2014     4843214\n",
       "..       ...   ...         ...\n",
       "352  Wyoming  2012      576765\n",
       "353  Wyoming  2013      582684\n",
       "354  Wyoming  2014      583642\n",
       "355  Wyoming  2015      586555\n",
       "356  Wyoming  2016      585501\n",
       "\n",
       "[357 rows x 3 columns]"
      ]
     },
     "execution_count": 12,
     "metadata": {},
     "output_type": "execute_result"
    }
   ],
   "source": [
    "# Read in the state-populations file that exists in the data folder\n",
    "pd.read_csv('data/state-populations.csv')"
   ]
  },
  {
   "cell_type": "markdown",
   "metadata": {},
   "source": [
    "That's nice we were able to read this into Python... but to do much of anything with it, we'll need to assign it to a variable:"
   ]
  },
  {
   "cell_type": "code",
   "execution_count": 26,
   "metadata": {},
   "outputs": [
    {
     "data": {
      "text/html": [
       "<div>\n",
       "<style scoped>\n",
       "    .dataframe tbody tr th:only-of-type {\n",
       "        vertical-align: middle;\n",
       "    }\n",
       "\n",
       "    .dataframe tbody tr th {\n",
       "        vertical-align: top;\n",
       "    }\n",
       "\n",
       "    .dataframe thead th {\n",
       "        text-align: right;\n",
       "    }\n",
       "</style>\n",
       "<table border=\"1\" class=\"dataframe\">\n",
       "  <thead>\n",
       "    <tr style=\"text-align: right;\">\n",
       "      <th></th>\n",
       "      <th>name</th>\n",
       "      <th>Year</th>\n",
       "      <th>Population</th>\n",
       "    </tr>\n",
       "  </thead>\n",
       "  <tbody>\n",
       "    <tr>\n",
       "      <td>0</td>\n",
       "      <td>AlabamaAlabama</td>\n",
       "      <td>4020</td>\n",
       "      <td>9570984</td>\n",
       "    </tr>\n",
       "    <tr>\n",
       "      <td>1</td>\n",
       "      <td>AlabamaAlabama</td>\n",
       "      <td>4022</td>\n",
       "      <td>9599836</td>\n",
       "    </tr>\n",
       "    <tr>\n",
       "      <td>2</td>\n",
       "      <td>AlabamaAlabama</td>\n",
       "      <td>4024</td>\n",
       "      <td>9631920</td>\n",
       "    </tr>\n",
       "    <tr>\n",
       "      <td>3</td>\n",
       "      <td>AlabamaAlabama</td>\n",
       "      <td>4026</td>\n",
       "      <td>9658958</td>\n",
       "    </tr>\n",
       "    <tr>\n",
       "      <td>4</td>\n",
       "      <td>AlabamaAlabama</td>\n",
       "      <td>4028</td>\n",
       "      <td>9686428</td>\n",
       "    </tr>\n",
       "    <tr>\n",
       "      <td>...</td>\n",
       "      <td>...</td>\n",
       "      <td>...</td>\n",
       "      <td>...</td>\n",
       "    </tr>\n",
       "    <tr>\n",
       "      <td>352</td>\n",
       "      <td>WyomingWyoming</td>\n",
       "      <td>4024</td>\n",
       "      <td>1153530</td>\n",
       "    </tr>\n",
       "    <tr>\n",
       "      <td>353</td>\n",
       "      <td>WyomingWyoming</td>\n",
       "      <td>4026</td>\n",
       "      <td>1165368</td>\n",
       "    </tr>\n",
       "    <tr>\n",
       "      <td>354</td>\n",
       "      <td>WyomingWyoming</td>\n",
       "      <td>4028</td>\n",
       "      <td>1167284</td>\n",
       "    </tr>\n",
       "    <tr>\n",
       "      <td>355</td>\n",
       "      <td>WyomingWyoming</td>\n",
       "      <td>4030</td>\n",
       "      <td>1173110</td>\n",
       "    </tr>\n",
       "    <tr>\n",
       "      <td>356</td>\n",
       "      <td>WyomingWyoming</td>\n",
       "      <td>4032</td>\n",
       "      <td>1171002</td>\n",
       "    </tr>\n",
       "  </tbody>\n",
       "</table>\n",
       "<p>357 rows × 3 columns</p>\n",
       "</div>"
      ],
      "text/plain": [
       "               name  Year  Population\n",
       "0    AlabamaAlabama  4020     9570984\n",
       "1    AlabamaAlabama  4022     9599836\n",
       "2    AlabamaAlabama  4024     9631920\n",
       "3    AlabamaAlabama  4026     9658958\n",
       "4    AlabamaAlabama  4028     9686428\n",
       "..              ...   ...         ...\n",
       "352  WyomingWyoming  4024     1153530\n",
       "353  WyomingWyoming  4026     1165368\n",
       "354  WyomingWyoming  4028     1167284\n",
       "355  WyomingWyoming  4030     1173110\n",
       "356  WyomingWyoming  4032     1171002\n",
       "\n",
       "[357 rows x 3 columns]"
      ]
     },
     "execution_count": 26,
     "metadata": {},
     "output_type": "execute_result"
    }
   ],
   "source": [
    "# Read in csv as DataFrame, assign to variable\n",
    "state_pop = pd.read_csv('data/state-populations.csv')\n",
    "\n",
    "# Now I can refer to the variable and operate on it...\n",
    "# This one isn't real helpful 😼\n",
    "state_pop * 2"
   ]
  },
  {
   "cell_type": "markdown",
   "metadata": {},
   "source": [
    "### Reading from Excel\n",
    "\n",
    "We'll now read in a file `state-populations.xlsx`, also located in the `data` folder.\n",
    "\n",
    "\n",
    "Reading Excel workbooks into DataFrames will work similar to `csv` files. \n",
    "\n",
    "This time, we'll use `read_excel()`. \n",
    "\n",
    "Once again, there are [lots of optional arguments](https://pandas.pydata.org/pandas-docs/stable/reference/api/pandas.read_excel.html), but we must provide a file path: "
   ]
  },
  {
   "cell_type": "code",
   "execution_count": 3,
   "metadata": {},
   "outputs": [
    {
     "data": {
      "text/html": [
       "<div>\n",
       "<style scoped>\n",
       "    .dataframe tbody tr th:only-of-type {\n",
       "        vertical-align: middle;\n",
       "    }\n",
       "\n",
       "    .dataframe tbody tr th {\n",
       "        vertical-align: top;\n",
       "    }\n",
       "\n",
       "    .dataframe thead th {\n",
       "        text-align: right;\n",
       "    }\n",
       "</style>\n",
       "<table border=\"1\" class=\"dataframe\">\n",
       "  <thead>\n",
       "    <tr style=\"text-align: right;\">\n",
       "      <th></th>\n",
       "      <th>name</th>\n",
       "      <th>Year</th>\n",
       "      <th>Population</th>\n",
       "      <th>Density</th>\n",
       "    </tr>\n",
       "  </thead>\n",
       "  <tbody>\n",
       "    <tr>\n",
       "      <td>0</td>\n",
       "      <td>Alabama</td>\n",
       "      <td>2010</td>\n",
       "      <td>4785492</td>\n",
       "      <td>50750.0</td>\n",
       "    </tr>\n",
       "    <tr>\n",
       "      <td>1</td>\n",
       "      <td>Alabama</td>\n",
       "      <td>2011</td>\n",
       "      <td>4799918</td>\n",
       "      <td>50750.0</td>\n",
       "    </tr>\n",
       "    <tr>\n",
       "      <td>2</td>\n",
       "      <td>Alabama</td>\n",
       "      <td>2012</td>\n",
       "      <td>4815960</td>\n",
       "      <td>50750.0</td>\n",
       "    </tr>\n",
       "    <tr>\n",
       "      <td>3</td>\n",
       "      <td>Alabama</td>\n",
       "      <td>2013</td>\n",
       "      <td>4829479</td>\n",
       "      <td>50750.0</td>\n",
       "    </tr>\n",
       "    <tr>\n",
       "      <td>4</td>\n",
       "      <td>Alabama</td>\n",
       "      <td>2014</td>\n",
       "      <td>4843214</td>\n",
       "      <td>50750.0</td>\n",
       "    </tr>\n",
       "    <tr>\n",
       "      <td>...</td>\n",
       "      <td>...</td>\n",
       "      <td>...</td>\n",
       "      <td>...</td>\n",
       "      <td>...</td>\n",
       "    </tr>\n",
       "    <tr>\n",
       "      <td>352</td>\n",
       "      <td>Wyoming</td>\n",
       "      <td>2012</td>\n",
       "      <td>576765</td>\n",
       "      <td>97105.0</td>\n",
       "    </tr>\n",
       "    <tr>\n",
       "      <td>353</td>\n",
       "      <td>Wyoming</td>\n",
       "      <td>2013</td>\n",
       "      <td>582684</td>\n",
       "      <td>97105.0</td>\n",
       "    </tr>\n",
       "    <tr>\n",
       "      <td>354</td>\n",
       "      <td>Wyoming</td>\n",
       "      <td>2014</td>\n",
       "      <td>583642</td>\n",
       "      <td>97105.0</td>\n",
       "    </tr>\n",
       "    <tr>\n",
       "      <td>355</td>\n",
       "      <td>Wyoming</td>\n",
       "      <td>2015</td>\n",
       "      <td>586555</td>\n",
       "      <td>97105.0</td>\n",
       "    </tr>\n",
       "    <tr>\n",
       "      <td>356</td>\n",
       "      <td>Wyoming</td>\n",
       "      <td>2016</td>\n",
       "      <td>585501</td>\n",
       "      <td>97105.0</td>\n",
       "    </tr>\n",
       "  </tbody>\n",
       "</table>\n",
       "<p>357 rows × 4 columns</p>\n",
       "</div>"
      ],
      "text/plain": [
       "        name  Year  Population  Density\n",
       "0    Alabama  2010     4785492  50750.0\n",
       "1    Alabama  2011     4799918  50750.0\n",
       "2    Alabama  2012     4815960  50750.0\n",
       "3    Alabama  2013     4829479  50750.0\n",
       "4    Alabama  2014     4843214  50750.0\n",
       "..       ...   ...         ...      ...\n",
       "352  Wyoming  2012      576765  97105.0\n",
       "353  Wyoming  2013      582684  97105.0\n",
       "354  Wyoming  2014      583642  97105.0\n",
       "355  Wyoming  2015      586555  97105.0\n",
       "356  Wyoming  2016      585501  97105.0\n",
       "\n",
       "[357 rows x 4 columns]"
      ]
     },
     "execution_count": 3,
     "metadata": {},
     "output_type": "execute_result"
    }
   ],
   "source": [
    "# Read in our data\n",
    "state_pop = pd.read_excel('data/state-populations.xlsx')\n",
    "state_pop"
   ]
  },
  {
   "cell_type": "markdown",
   "metadata": {},
   "source": [
    "If our workbook contains multiple worksheets and we want to read specific one(s), we would specify the `sheet_name` argument:"
   ]
  },
  {
   "cell_type": "code",
   "execution_count": 4,
   "metadata": {
    "tags": []
   },
   "outputs": [
    {
     "name": "stdout",
     "output_type": "stream",
     "text": [
      "name  Year  Population  Density\n",
      "0    Alabama  2010     4785492  50750.0\n",
      "1    Alabama  2011     4799918  50750.0\n",
      "2    Alabama  2012     4815960  50750.0\n",
      "3    Alabama  2013     4829479  50750.0\n",
      "4    Alabama  2014     4843214  50750.0\n",
      "..       ...   ...         ...      ...\n",
      "352  Wyoming  2012      576765  97105.0\n",
      "353  Wyoming  2013      582684  97105.0\n",
      "354  Wyoming  2014      583642  97105.0\n",
      "355  Wyoming  2015      586555  97105.0\n",
      "356  Wyoming  2016      585501  97105.0\n",
      "\n",
      "[357 rows x 4 columns]\n",
      "  Data sources:                                       Unnamed: 1\n",
      "0     US Census  https://www.census.gov/prod/cen2010/cph-2-1.pdf\n"
     ]
    }
   ],
   "source": [
    "# Read the `populations` worksheet\n",
    "state_pop = pd.read_excel('data/state-populations.xlsx', sheet_name='populations')\n",
    "print(state_pop)\n",
    "\n",
    "# There is also a `readme` worksheet\n",
    "readme = pd.read_excel('data/state-populations.xlsx',sheet_name='readme')\n",
    "print(readme)"
   ]
  },
  {
   "cell_type": "markdown",
   "metadata": {},
   "source": [
    "That second worksheet doesn't look much like a table of data... but `pandas` did its best to make it so! \n",
    "\n",
    "This is a good reminder that DataFrames will always be two-dimensional structures where all the rows in a given column are of the same data tyupe. "
   ]
  },
  {
   "cell_type": "markdown",
   "metadata": {},
   "source": [
    "That's it for reading data from Excel. \n",
    "\n",
    "If you are interested in using Python to automate the creation of Excel workbooks, check out my OLT session on \"Python-Powered Excel.\""
   ]
  },
  {
   "cell_type": "markdown",
   "metadata": {},
   "source": [
    "## Reading from Google Sheets\n",
    "\n",
    "For many users, spreadsheets mean Google Sheets. \n",
    "\n",
    "It is possible to read DataFrames from Google Sheets but it requires using Google's API. Due to that added setup, we will skip for this workshop.\n",
    "\n",
    "[For instructions on reading from Google Sheets, check out this blog post.](https://towardsdatascience.com/accessing-google-spreadsheet-data-using-python-90a5bc214fd2)\n"
   ]
  },
  {
   "cell_type": "markdown",
   "metadata": {},
   "source": []
  },
  {
   "cell_type": "markdown",
   "metadata": {},
   "source": [
    "## Exploring our DataFrame\n",
    "\n",
    "*Success*! Our data has been read in and assigned to a variable. Now let's get to know our data. \n",
    "\n",
    "We can of course get a start with `print()`:\n"
   ]
  },
  {
   "cell_type": "code",
   "execution_count": 5,
   "metadata": {
    "tags": []
   },
   "outputs": [
    {
     "name": "stdout",
     "output_type": "stream",
     "text": [
      "name  Year  Population  Density\n",
      "0    Alabama  2010     4785492  50750.0\n",
      "1    Alabama  2011     4799918  50750.0\n",
      "2    Alabama  2012     4815960  50750.0\n",
      "3    Alabama  2013     4829479  50750.0\n",
      "4    Alabama  2014     4843214  50750.0\n",
      "..       ...   ...         ...      ...\n",
      "352  Wyoming  2012      576765  97105.0\n",
      "353  Wyoming  2013      582684  97105.0\n",
      "354  Wyoming  2014      583642  97105.0\n",
      "355  Wyoming  2015      586555  97105.0\n",
      "356  Wyoming  2016      585501  97105.0\n",
      "\n",
      "[357 rows x 4 columns]\n"
     ]
    }
   ],
   "source": [
    "print(state_pop)"
   ]
  },
  {
   "cell_type": "markdown",
   "metadata": {},
   "source": [
    "However, this is a *lot* of rows to look through. It's so much that Python doesn't even print all of them! You could [change the options](https://dev.to/chanduthedev/how-to-display-all-rows-from-data-frame-using-pandas-dha) to print all rows, but that's really not an effective way to size up our DataFrame. \n",
    "\n",
    "Instead, let's use the below methods and attributes to explore more efficiently:\n",
    "\n",
    " \n",
    "\n",
    "| Method/attribute | Returns                                                         |\n",
    "| ---------------- | --------------------------------------------------------------- |\n",
    "| `df.info()`      | Column names with their data type and number of complete values |\n",
    "| `df.columns`     | Column names                                                    |\n",
    "| `df.dtypes`      | Data types                                                      |\n",
    "| `df.shape`       | Dimensions (# rows by # columns)                                |\n",
    "| `df.head()`      | First 5 rows                                                    |\n",
    "| `df.tail()`      | Last 5 rows                                                     |\n",
    "| `df.describe()`  | Descriptive statistics                                          |\n",
    "\n",
    "\n",
    "`df` is a common stand-in for a generic DataFrame which you'll often see in examples. "
   ]
  },
  {
   "cell_type": "code",
   "execution_count": 6,
   "metadata": {
    "tags": []
   },
   "outputs": [
    {
     "name": "stdout",
     "output_type": "stream",
     "text": [
      "<class 'pandas.core.frame.DataFrame'>\n",
      "RangeIndex: 357 entries, 0 to 356\n",
      "Data columns (total 4 columns):\n",
      "name          357 non-null object\n",
      "Year          357 non-null int64\n",
      "Population    357 non-null int64\n",
      "Density       350 non-null float64\n",
      "dtypes: float64(1), int64(2), object(1)\n",
      "memory usage: 11.3+ KB\n"
     ]
    }
   ],
   "source": [
    "# Return column names, data types and number of complete values\n",
    "state_pop.info()"
   ]
  },
  {
   "cell_type": "code",
   "execution_count": 7,
   "metadata": {},
   "outputs": [
    {
     "data": {
      "text/plain": [
       "Index(['name', 'Year', 'Population', 'Density'], dtype='object')"
      ]
     },
     "execution_count": 7,
     "metadata": {},
     "output_type": "execute_result"
    }
   ],
   "source": [
    "# Return column names\n",
    "state_pop.columns"
   ]
  },
  {
   "cell_type": "code",
   "execution_count": 8,
   "metadata": {},
   "outputs": [
    {
     "data": {
      "text/plain": [
       "name           object\n",
       "Year            int64\n",
       "Population      int64\n",
       "Density       float64\n",
       "dtype: object"
      ]
     },
     "execution_count": 8,
     "metadata": {},
     "output_type": "execute_result"
    }
   ],
   "source": [
    "# Return data types\n",
    "state_pop.dtypes"
   ]
  },
  {
   "cell_type": "code",
   "execution_count": 9,
   "metadata": {},
   "outputs": [
    {
     "data": {
      "text/plain": [
       "(357, 4)"
      ]
     },
     "execution_count": 9,
     "metadata": {},
     "output_type": "execute_result"
    }
   ],
   "source": [
    "# Return shape\n",
    "state_pop.shape"
   ]
  },
  {
   "cell_type": "code",
   "execution_count": 10,
   "metadata": {},
   "outputs": [
    {
     "data": {
      "text/html": [
       "<div>\n",
       "<style scoped>\n",
       "    .dataframe tbody tr th:only-of-type {\n",
       "        vertical-align: middle;\n",
       "    }\n",
       "\n",
       "    .dataframe tbody tr th {\n",
       "        vertical-align: top;\n",
       "    }\n",
       "\n",
       "    .dataframe thead th {\n",
       "        text-align: right;\n",
       "    }\n",
       "</style>\n",
       "<table border=\"1\" class=\"dataframe\">\n",
       "  <thead>\n",
       "    <tr style=\"text-align: right;\">\n",
       "      <th></th>\n",
       "      <th>name</th>\n",
       "      <th>Year</th>\n",
       "      <th>Population</th>\n",
       "      <th>Density</th>\n",
       "    </tr>\n",
       "  </thead>\n",
       "  <tbody>\n",
       "    <tr>\n",
       "      <td>0</td>\n",
       "      <td>Alabama</td>\n",
       "      <td>2010</td>\n",
       "      <td>4785492</td>\n",
       "      <td>50750.0</td>\n",
       "    </tr>\n",
       "    <tr>\n",
       "      <td>1</td>\n",
       "      <td>Alabama</td>\n",
       "      <td>2011</td>\n",
       "      <td>4799918</td>\n",
       "      <td>50750.0</td>\n",
       "    </tr>\n",
       "    <tr>\n",
       "      <td>2</td>\n",
       "      <td>Alabama</td>\n",
       "      <td>2012</td>\n",
       "      <td>4815960</td>\n",
       "      <td>50750.0</td>\n",
       "    </tr>\n",
       "    <tr>\n",
       "      <td>3</td>\n",
       "      <td>Alabama</td>\n",
       "      <td>2013</td>\n",
       "      <td>4829479</td>\n",
       "      <td>50750.0</td>\n",
       "    </tr>\n",
       "    <tr>\n",
       "      <td>4</td>\n",
       "      <td>Alabama</td>\n",
       "      <td>2014</td>\n",
       "      <td>4843214</td>\n",
       "      <td>50750.0</td>\n",
       "    </tr>\n",
       "  </tbody>\n",
       "</table>\n",
       "</div>"
      ],
      "text/plain": [
       "      name  Year  Population  Density\n",
       "0  Alabama  2010     4785492  50750.0\n",
       "1  Alabama  2011     4799918  50750.0\n",
       "2  Alabama  2012     4815960  50750.0\n",
       "3  Alabama  2013     4829479  50750.0\n",
       "4  Alabama  2014     4843214  50750.0"
      ]
     },
     "execution_count": 10,
     "metadata": {},
     "output_type": "execute_result"
    }
   ],
   "source": [
    "# Get first 5 rows\n",
    "state_pop.head()"
   ]
  },
  {
   "cell_type": "code",
   "execution_count": 11,
   "metadata": {},
   "outputs": [
    {
     "data": {
      "text/html": [
       "<div>\n",
       "<style scoped>\n",
       "    .dataframe tbody tr th:only-of-type {\n",
       "        vertical-align: middle;\n",
       "    }\n",
       "\n",
       "    .dataframe tbody tr th {\n",
       "        vertical-align: top;\n",
       "    }\n",
       "\n",
       "    .dataframe thead th {\n",
       "        text-align: right;\n",
       "    }\n",
       "</style>\n",
       "<table border=\"1\" class=\"dataframe\">\n",
       "  <thead>\n",
       "    <tr style=\"text-align: right;\">\n",
       "      <th></th>\n",
       "      <th>name</th>\n",
       "      <th>Year</th>\n",
       "      <th>Population</th>\n",
       "      <th>Density</th>\n",
       "    </tr>\n",
       "  </thead>\n",
       "  <tbody>\n",
       "    <tr>\n",
       "      <td>352</td>\n",
       "      <td>Wyoming</td>\n",
       "      <td>2012</td>\n",
       "      <td>576765</td>\n",
       "      <td>97105.0</td>\n",
       "    </tr>\n",
       "    <tr>\n",
       "      <td>353</td>\n",
       "      <td>Wyoming</td>\n",
       "      <td>2013</td>\n",
       "      <td>582684</td>\n",
       "      <td>97105.0</td>\n",
       "    </tr>\n",
       "    <tr>\n",
       "      <td>354</td>\n",
       "      <td>Wyoming</td>\n",
       "      <td>2014</td>\n",
       "      <td>583642</td>\n",
       "      <td>97105.0</td>\n",
       "    </tr>\n",
       "    <tr>\n",
       "      <td>355</td>\n",
       "      <td>Wyoming</td>\n",
       "      <td>2015</td>\n",
       "      <td>586555</td>\n",
       "      <td>97105.0</td>\n",
       "    </tr>\n",
       "    <tr>\n",
       "      <td>356</td>\n",
       "      <td>Wyoming</td>\n",
       "      <td>2016</td>\n",
       "      <td>585501</td>\n",
       "      <td>97105.0</td>\n",
       "    </tr>\n",
       "  </tbody>\n",
       "</table>\n",
       "</div>"
      ],
      "text/plain": [
       "        name  Year  Population  Density\n",
       "352  Wyoming  2012      576765  97105.0\n",
       "353  Wyoming  2013      582684  97105.0\n",
       "354  Wyoming  2014      583642  97105.0\n",
       "355  Wyoming  2015      586555  97105.0\n",
       "356  Wyoming  2016      585501  97105.0"
      ]
     },
     "execution_count": 11,
     "metadata": {},
     "output_type": "execute_result"
    }
   ],
   "source": [
    "# Get last 5 rows\n",
    "state_pop.tail()"
   ]
  },
  {
   "cell_type": "code",
   "execution_count": 12,
   "metadata": {},
   "outputs": [
    {
     "data": {
      "text/html": [
       "<div>\n",
       "<style scoped>\n",
       "    .dataframe tbody tr th:only-of-type {\n",
       "        vertical-align: middle;\n",
       "    }\n",
       "\n",
       "    .dataframe tbody tr th {\n",
       "        vertical-align: top;\n",
       "    }\n",
       "\n",
       "    .dataframe thead th {\n",
       "        text-align: right;\n",
       "    }\n",
       "</style>\n",
       "<table border=\"1\" class=\"dataframe\">\n",
       "  <thead>\n",
       "    <tr style=\"text-align: right;\">\n",
       "      <th></th>\n",
       "      <th>Year</th>\n",
       "      <th>Population</th>\n",
       "      <th>Density</th>\n",
       "    </tr>\n",
       "  </thead>\n",
       "  <tbody>\n",
       "    <tr>\n",
       "      <td>count</td>\n",
       "      <td>357.000000</td>\n",
       "      <td>3.570000e+02</td>\n",
       "      <td>350.000000</td>\n",
       "    </tr>\n",
       "    <tr>\n",
       "      <td>mean</td>\n",
       "      <td>2013.000000</td>\n",
       "      <td>6.201127e+06</td>\n",
       "      <td>70725.400000</td>\n",
       "    </tr>\n",
       "    <tr>\n",
       "      <td>std</td>\n",
       "      <td>2.002807</td>\n",
       "      <td>6.984741e+06</td>\n",
       "      <td>85096.140584</td>\n",
       "    </tr>\n",
       "    <tr>\n",
       "      <td>min</td>\n",
       "      <td>2010.000000</td>\n",
       "      <td>5.645130e+05</td>\n",
       "      <td>1034.000000</td>\n",
       "    </tr>\n",
       "    <tr>\n",
       "      <td>25%</td>\n",
       "      <td>2011.000000</td>\n",
       "      <td>1.652828e+06</td>\n",
       "      <td>35870.000000</td>\n",
       "    </tr>\n",
       "    <tr>\n",
       "      <td>50%</td>\n",
       "      <td>2013.000000</td>\n",
       "      <td>4.400477e+06</td>\n",
       "      <td>54155.500000</td>\n",
       "    </tr>\n",
       "    <tr>\n",
       "      <td>75%</td>\n",
       "      <td>2015.000000</td>\n",
       "      <td>6.895226e+06</td>\n",
       "      <td>81823.000000</td>\n",
       "    </tr>\n",
       "    <tr>\n",
       "      <td>max</td>\n",
       "      <td>2016.000000</td>\n",
       "      <td>3.925002e+07</td>\n",
       "      <td>570641.000000</td>\n",
       "    </tr>\n",
       "  </tbody>\n",
       "</table>\n",
       "</div>"
      ],
      "text/plain": [
       "              Year    Population        Density\n",
       "count   357.000000  3.570000e+02     350.000000\n",
       "mean   2013.000000  6.201127e+06   70725.400000\n",
       "std       2.002807  6.984741e+06   85096.140584\n",
       "min    2010.000000  5.645130e+05    1034.000000\n",
       "25%    2011.000000  1.652828e+06   35870.000000\n",
       "50%    2013.000000  4.400477e+06   54155.500000\n",
       "75%    2015.000000  6.895226e+06   81823.000000\n",
       "max    2016.000000  3.925002e+07  570641.000000"
      ]
     },
     "execution_count": 12,
     "metadata": {},
     "output_type": "execute_result"
    }
   ],
   "source": [
    "# Get descriptive statistics\n",
    "state_pop.describe()"
   ]
  },
  {
   "cell_type": "markdown",
   "metadata": {},
   "source": [
    "# DRILL\n",
    "\n",
    "Practice reading in and exploring the two files in the `practice` folder.\n",
    "\n",
    "1. `largest-us-cities.csv`: Find the data types and dimensions of this DataFrame. Also print out the first five rows.\n",
    "2. `chicago-big-ten.xlsx`: The worksheet you're interested in is called `alumni`. Get the column names and run the descriptive statistics."
   ]
  },
  {
   "cell_type": "markdown",
   "metadata": {},
   "source": [
    "Congratulations on reading and exploring data in `pandas`! In the following sections we'll look at manipulating DataFrames and then visualizing the results. "
   ]
  },
  {
   "cell_type": "code",
   "execution_count": null,
   "metadata": {},
   "outputs": [],
   "source": []
  }
 ],
 "metadata": {
  "kernelspec": {
   "display_name": "Python 3",
   "language": "python",
   "name": "python3"
  },
  "language_info": {
   "codemirror_mode": {
    "name": "ipython",
    "version": 3
   },
   "file_extension": ".py",
   "mimetype": "text/x-python",
   "name": "python",
   "nbconvert_exporter": "python",
   "pygments_lexer": "ipython3",
   "version": "3.7.4"
  }
 },
 "nbformat": 4,
 "nbformat_minor": 2
}
