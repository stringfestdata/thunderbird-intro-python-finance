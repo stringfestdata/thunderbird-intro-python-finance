{
 "cells": [
  {
   "cell_type": "markdown",
   "metadata": {},
   "source": [
    "### Drill\n",
    "\n",
    "Take a shot at assigning an array and finding its square root using this aliasing method. "
   ]
  },
  {
   "cell_type": "code",
   "execution_count": null,
   "metadata": {},
   "outputs": [],
   "source": [
    "# Import and alias the module\n",
    "\n",
    "import ___ ___ ___\n",
    "\n",
    "# Create an array\n",
    "my_new_array = ___.___([36, 49, 64, 81])\n",
    "\n",
    "# Take its square root\n",
    "np.___(___)"
   ]
  },
  {
   "cell_type": "code",
   "execution_count": null,
   "metadata": {},
   "outputs": [],
   "source": [
    "# Import and alias the module\n",
    "\n",
    "import numpy as np\n",
    "\n",
    "# Create an array\n",
    "my_new_array = np.array([36, 49, 64, 81])\n",
    "\n",
    "# Take its square root\n",
    "np.sqrt(my_new_array)"
   ]
  },
  {
   "cell_type": "markdown",
   "metadata": {},
   "source": [
    "# DRILL\n",
    "\n",
    "Practice your `numpy` skills by operating on a large array. \n",
    "\n",
    "I will get you started; complete the operations based on what the comments are asking for. "
   ]
  },
  {
   "cell_type": "code",
   "execution_count": 14,
   "metadata": {
    "tags": []
   },
   "outputs": [
    {
     "name": "stdout",
     "output_type": "stream",
     "text": [
      "[47. 21. 23. 24. 45.  6. 30. 43. 45. 23.  2. 46.  4. 34. 42.  2. 47. 14.\n",
      " 18.  9. 50. 34. 12. 24. 42. 24.  3. 39. 17. 15. 37. 18. 46. 25.  9. 41.\n",
      " 45. 34. 22. 26. 27. 44. 28.  4. 15. 31.  3. 39. 15. 23.  5. 27. 11. 25.\n",
      " 16. 11.  2. 43. 35. 45. 27. 48. 44. 20.  4. 21.  8. 48. 29. 20. 15. 20.\n",
      " 37. 17.  6. 13. 39. 25.  5. 11.  4. 20. 47.  9.  2.  8. 44. 40.  8.  1.\n",
      " 45. 26. 43. 10. 22. 24.  3. 48. 29. 49.]\n"
     ]
    }
   ],
   "source": [
    "# Don't worry about this part -- I am reading the file into Python.\n",
    "# You will learn how to read files into Python in the next unit. \n",
    "my_array = np.genfromtxt('numpy-drill.csv')\n",
    "print(my_array)"
   ]
  },
  {
   "cell_type": "code",
   "execution_count": 15,
   "metadata": {},
   "outputs": [
    {
     "data": {
      "text/plain": [
       "(100,)"
      ]
     },
     "execution_count": 15,
     "metadata": {},
     "output_type": "execute_result"
    }
   ],
   "source": [
    "# What is the shape of this array?\n",
    "# This also tells us how many dimensions there are --\n",
    "# one number means one dimension\n",
    "my_array.shape"
   ]
  },
  {
   "cell_type": "code",
   "execution_count": 16,
   "metadata": {},
   "outputs": [
    {
     "data": {
      "text/plain": [
       "dtype('float64')"
      ]
     },
     "execution_count": 16,
     "metadata": {},
     "output_type": "execute_result"
    }
   ],
   "source": [
    "# What is its datatype?\n",
    "my_array.dtype"
   ]
  },
  {
   "cell_type": "code",
   "execution_count": 19,
   "metadata": {},
   "outputs": [],
   "source": [
    "# Reshape this result into a 10x10 array\n",
    "my_array = np.reshape(my_array, (10, 10))"
   ]
  },
  {
   "cell_type": "code",
   "execution_count": 20,
   "metadata": {},
   "outputs": [
    {
     "data": {
      "text/plain": [
       "(10, 10)"
      ]
     },
     "execution_count": 20,
     "metadata": {},
     "output_type": "execute_result"
    }
   ],
   "source": [
    "# What is the shape of our array now?\n",
    "my_array.shape"
   ]
  },
  {
   "cell_type": "code",
   "execution_count": 23,
   "metadata": {
    "tags": []
   },
   "outputs": [
    {
     "data": {
      "text/plain": [
       "array([[2.6183305 , 2.14069514, 2.1899387 , 2.21336384, 2.59002006,\n",
       "        1.56508458, 2.34034732, 2.5607496 , 2.59002006, 2.1899387 ],\n",
       "       [1.18920712, 2.60429069, 1.41421356, 2.4147364 , 2.5457299 ,\n",
       "        1.18920712, 2.6183305 , 1.93433642, 2.05976714, 1.73205081],\n",
       "       [2.65914795, 2.4147364 , 1.86120972, 2.21336384, 2.5457299 ,\n",
       "        2.21336384, 1.31607401, 2.4989994 , 2.03054318, 1.96798967],\n",
       "       [2.46632571, 2.05976714, 2.60429069, 2.23606798, 1.73205081,\n",
       "        2.53043953, 2.59002006, 2.4147364 , 2.16573677, 2.25810086],\n",
       "       [2.27950706, 2.57550958, 2.30032663, 1.41421356, 1.96798967,\n",
       "        2.35961106, 1.31607401, 2.4989994 , 1.96798967, 2.1899387 ],\n",
       "       [1.49534878, 2.27950706, 1.82116029, 2.23606798, 2.        ,\n",
       "        1.82116029, 1.18920712, 2.5607496 , 2.43229928, 2.59002006],\n",
       "       [2.27950706, 2.63214803, 2.57550958, 2.11474253, 1.41421356,\n",
       "        2.14069514, 1.68179283, 2.63214803, 2.32059579, 2.11474253],\n",
       "       [1.96798967, 2.11474253, 2.46632571, 2.03054318, 1.56508458,\n",
       "        1.89882892, 2.4989994 , 2.23606798, 1.49534878, 1.82116029],\n",
       "       [1.41421356, 2.11474253, 2.6183305 , 1.73205081, 1.18920712,\n",
       "        1.68179283, 2.57550958, 2.51486686, 1.68179283, 1.        ],\n",
       "       [2.59002006, 2.25810086, 2.5607496 , 1.77827941, 2.16573677,\n",
       "        2.21336384, 1.31607401, 2.63214803, 2.32059579, 2.64575131]])"
      ]
     },
     "execution_count": 23,
     "metadata": {},
     "output_type": "execute_result"
    }
   ],
   "source": [
    "# Take the sqrt of this array\n",
    "my_array = np.sqrt(my_array)\n",
    "my_array"
   ]
  },
  {
   "cell_type": "code",
   "execution_count": 29,
   "metadata": {},
   "outputs": [
    {
     "data": {
      "text/plain": [
       "2.0597671439071177"
      ]
     },
     "execution_count": 29,
     "metadata": {},
     "output_type": "execute_result"
    }
   ],
   "source": [
    "# Access the element in the fourth row\n",
    "# and second column of the array\n",
    "my_array[3,1]"
   ]
  },
  {
   "cell_type": "code",
   "execution_count": null,
   "metadata": {},
   "outputs": [],
   "source": [
    "# What is the shape of this array?\n",
    "# This also tells us how many dimensions there are --\n",
    "# one number means one dimension\n",
    "my_array.___"
   ]
  },
  {
   "cell_type": "code",
   "execution_count": null,
   "metadata": {},
   "outputs": [],
   "source": [
    "# What is its datatype?\n",
    "___"
   ]
  },
  {
   "cell_type": "code",
   "execution_count": null,
   "metadata": {},
   "outputs": [],
   "source": [
    "# Reshape this result into a 10x10 array\n",
    "my_array = np.reshape(___, ___)"
   ]
  },
  {
   "cell_type": "code",
   "execution_count": null,
   "metadata": {},
   "outputs": [],
   "source": [
    "# What is the shape of our array now?\n",
    "___"
   ]
  },
  {
   "cell_type": "code",
   "execution_count": null,
   "metadata": {},
   "outputs": [],
   "source": [
    "# Take the sqrt of this array\n",
    "my_array = np.___(___)\n",
    "my_array"
   ]
  },
  {
   "cell_type": "code",
   "execution_count": null,
   "metadata": {},
   "outputs": [],
   "source": [
    "# Access the element in the fourth row\n",
    "# and second column of the array\n",
    "my_array___"
   ]
  },
  {
   "cell_type": "markdown",
   "metadata": {},
   "source": [
    "# DRILL\n",
    "\n",
    "Practice reading in and exploring the two files in the `practice` folder.\n",
    "\n",
    "1. `largest-us-cities.csv`: Find the data types and dimensions of this DataFrame. Also print out the first five rows.\n",
    "2. `chicago-big-ten.xlsx`: The worksheet you're interested in is called `alumni`. Get the column names and run the descriptive statistics."
   ]
  },
  {
   "cell_type": "code",
   "execution_count": 32,
   "metadata": {
    "tags": []
   },
   "outputs": [
    {
     "name": "stdout",
     "output_type": "stream",
     "text": [
      "city           object\n",
      "population      int64\n",
      "pop_change    float64\n",
      "land_area     float64\n",
      "dtype: object\n",
      "(10, 4)\n",
      "          city  population  pop_change  land_area\n",
      "0     New York     8336817      0.0198      301.5\n",
      "1  Los Angeles     3979576      0.0493      468.7\n",
      "2      Chicago     2693976     -0.0006      227.3\n",
      "3      Houston     2320268      0.1048      637.5\n",
      "4      Phoenix     1680992      0.1628      517.6\n"
     ]
    }
   ],
   "source": [
    "big_cities = pd.read_csv('practice/largest-us-cities.csv')\n",
    "\n",
    "# Data types\n",
    "print(big_cities.dtypes)\n",
    "\n",
    "# Dimensions\n",
    "print(big_cities.shape)\n",
    "\n",
    "# First five rows\n",
    "print(big_cities.head())"
   ]
  },
  {
   "cell_type": "code",
   "execution_count": 33,
   "metadata": {},
   "outputs": [
    {
     "data": {
      "text/html": [
       "<div>\n",
       "<style scoped>\n",
       "    .dataframe tbody tr th:only-of-type {\n",
       "        vertical-align: middle;\n",
       "    }\n",
       "\n",
       "    .dataframe tbody tr th {\n",
       "        vertical-align: top;\n",
       "    }\n",
       "\n",
       "    .dataframe thead th {\n",
       "        text-align: right;\n",
       "    }\n",
       "</style>\n",
       "<table border=\"1\" class=\"dataframe\">\n",
       "  <thead>\n",
       "    <tr style=\"text-align: right;\">\n",
       "      <th></th>\n",
       "      <th>GO BUCKEYES!</th>\n",
       "    </tr>\n",
       "  </thead>\n",
       "  <tbody>\n",
       "  </tbody>\n",
       "</table>\n",
       "</div>"
      ],
      "text/plain": [
       "Empty DataFrame\n",
       "Columns: [GO BUCKEYES!]\n",
       "Index: []"
      ]
     },
     "execution_count": 33,
     "metadata": {},
     "output_type": "execute_result"
    }
   ],
   "source": [
    "chicago = pd.read_excel('practice/chicago-big-ten.xlsx')\n",
    "chicago"
   ]
  },
  {
   "cell_type": "code",
   "execution_count": 34,
   "metadata": {},
   "outputs": [
    {
     "data": {
      "text/html": [
       "<div>\n",
       "<style scoped>\n",
       "    .dataframe tbody tr th:only-of-type {\n",
       "        vertical-align: middle;\n",
       "    }\n",
       "\n",
       "    .dataframe tbody tr th {\n",
       "        vertical-align: top;\n",
       "    }\n",
       "\n",
       "    .dataframe thead th {\n",
       "        text-align: right;\n",
       "    }\n",
       "</style>\n",
       "<table border=\"1\" class=\"dataframe\">\n",
       "  <thead>\n",
       "    <tr style=\"text-align: right;\">\n",
       "      <th></th>\n",
       "      <th>school</th>\n",
       "      <th>school_state</th>\n",
       "      <th>alumni</th>\n",
       "    </tr>\n",
       "  </thead>\n",
       "  <tbody>\n",
       "    <tr>\n",
       "      <td>0</td>\n",
       "      <td>Illinois</td>\n",
       "      <td>IL</td>\n",
       "      <td>77873</td>\n",
       "    </tr>\n",
       "    <tr>\n",
       "      <td>1</td>\n",
       "      <td>Northwestern</td>\n",
       "      <td>IL</td>\n",
       "      <td>37326</td>\n",
       "    </tr>\n",
       "    <tr>\n",
       "      <td>2</td>\n",
       "      <td>Purdue</td>\n",
       "      <td>IN</td>\n",
       "      <td>24395</td>\n",
       "    </tr>\n",
       "    <tr>\n",
       "      <td>3</td>\n",
       "      <td>Indiana</td>\n",
       "      <td>IN</td>\n",
       "      <td>22060</td>\n",
       "    </tr>\n",
       "    <tr>\n",
       "      <td>4</td>\n",
       "      <td>Wisconsin</td>\n",
       "      <td>WI</td>\n",
       "      <td>17669</td>\n",
       "    </tr>\n",
       "    <tr>\n",
       "      <td>5</td>\n",
       "      <td>Iowa</td>\n",
       "      <td>IO</td>\n",
       "      <td>15930</td>\n",
       "    </tr>\n",
       "    <tr>\n",
       "      <td>6</td>\n",
       "      <td>Michigan State</td>\n",
       "      <td>MI</td>\n",
       "      <td>14525</td>\n",
       "    </tr>\n",
       "    <tr>\n",
       "      <td>7</td>\n",
       "      <td>Michigan</td>\n",
       "      <td>MI</td>\n",
       "      <td>14167</td>\n",
       "    </tr>\n",
       "    <tr>\n",
       "      <td>8</td>\n",
       "      <td>Ohio State</td>\n",
       "      <td>OH</td>\n",
       "      <td>5481</td>\n",
       "    </tr>\n",
       "    <tr>\n",
       "      <td>9</td>\n",
       "      <td>Minnesota</td>\n",
       "      <td>MI</td>\n",
       "      <td>3975</td>\n",
       "    </tr>\n",
       "    <tr>\n",
       "      <td>10</td>\n",
       "      <td>Penn State</td>\n",
       "      <td>PA</td>\n",
       "      <td>3167</td>\n",
       "    </tr>\n",
       "    <tr>\n",
       "      <td>11</td>\n",
       "      <td>Nebraska</td>\n",
       "      <td>NE</td>\n",
       "      <td>1800</td>\n",
       "    </tr>\n",
       "  </tbody>\n",
       "</table>\n",
       "</div>"
      ],
      "text/plain": [
       "            school school_state  alumni\n",
       "0         Illinois           IL   77873\n",
       "1     Northwestern           IL   37326\n",
       "2           Purdue           IN   24395\n",
       "3          Indiana           IN   22060\n",
       "4        Wisconsin           WI   17669\n",
       "5             Iowa           IO   15930\n",
       "6   Michigan State           MI   14525\n",
       "7         Michigan           MI   14167\n",
       "8       Ohio State           OH    5481\n",
       "9        Minnesota           MI    3975\n",
       "10      Penn State           PA    3167\n",
       "11        Nebraska           NE    1800"
      ]
     },
     "execution_count": 34,
     "metadata": {},
     "output_type": "execute_result"
    }
   ],
   "source": [
    "# Whoops! Make sure we specify the sheet:\n",
    "chicago = pd.read_excel('practice/chicago-big-ten.xlsx', sheet_name='alumni')\n",
    "chicago"
   ]
  },
  {
   "cell_type": "code",
   "execution_count": 36,
   "metadata": {
    "tags": []
   },
   "outputs": [
    {
     "name": "stdout",
     "output_type": "stream",
     "text": [
      "Index(['school', 'school_state', 'alumni'], dtype='object')\n",
      "             alumni\n",
      "count     12.000000\n",
      "mean   19864.000000\n",
      "std    20978.347989\n",
      "min     1800.000000\n",
      "25%     5104.500000\n",
      "50%    15227.500000\n",
      "75%    22643.750000\n",
      "max    77873.000000\n"
     ]
    }
   ],
   "source": [
    "# Column names\n",
    "print(chicago.columns)\n",
    "\n",
    "# Descriptive stats\n",
    "print(chicago.describe())"
   ]
  },
  {
   "cell_type": "code",
   "execution_count": null,
   "metadata": {},
   "outputs": [],
   "source": []
  }
 ],
 "metadata": {
  "kernelspec": {
   "display_name": "Python 3",
   "language": "python",
   "name": "python3"
  },
  "language_info": {
   "codemirror_mode": {
    "name": "ipython",
    "version": 3
   },
   "file_extension": ".py",
   "mimetype": "text/x-python",
   "name": "python",
   "nbconvert_exporter": "python",
   "pygments_lexer": "ipython3",
   "version": "3.7.9"
  }
 },
 "nbformat": 4,
 "nbformat_minor": 2
}
